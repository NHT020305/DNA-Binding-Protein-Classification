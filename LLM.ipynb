{
 "cells": [
  {
   "cell_type": "markdown",
   "id": "db5f37de",
   "metadata": {},
   "source": [
    "# Load datasets"
   ]
  },
  {
   "cell_type": "code",
   "execution_count": 1,
   "id": "54d4aef7",
   "metadata": {},
   "outputs": [],
   "source": [
    "#pip install transformers\n",
    "#pip install torch\n",
    "#pip install torch.nn"
   ]
  },
  {
   "cell_type": "code",
   "execution_count": null,
   "id": "ca54dd16",
   "metadata": {},
   "outputs": [],
   "source": [
    "from Bio import SeqIO\n",
    "from Bio.Seq import Seq\n",
    "import pandas as pd\n",
    "import numpy as np\n",
    "import transformers"
   ]
  },
  {
   "cell_type": "code",
   "execution_count": 3,
   "id": "2c09d13b",
   "metadata": {},
   "outputs": [
    {
     "data": {
      "text/html": [
       "<div>\n",
       "<style scoped>\n",
       "    .dataframe tbody tr th:only-of-type {\n",
       "        vertical-align: middle;\n",
       "    }\n",
       "\n",
       "    .dataframe tbody tr th {\n",
       "        vertical-align: top;\n",
       "    }\n",
       "\n",
       "    .dataframe thead th {\n",
       "        text-align: right;\n",
       "    }\n",
       "</style>\n",
       "<table border=\"1\" class=\"dataframe\">\n",
       "  <thead>\n",
       "    <tr style=\"text-align: right;\">\n",
       "      <th></th>\n",
       "      <th>ID</th>\n",
       "      <th>Label</th>\n",
       "      <th>sequence</th>\n",
       "    </tr>\n",
       "  </thead>\n",
       "  <tbody>\n",
       "    <tr>\n",
       "      <th>0</th>\n",
       "      <td>seq_0</td>\n",
       "      <td>1</td>\n",
       "      <td>MANILNLKHLLTLALILLALATKSSTSSSSSITRVKGIYWLENPFF...</td>\n",
       "    </tr>\n",
       "    <tr>\n",
       "      <th>1</th>\n",
       "      <td>seq_1</td>\n",
       "      <td>1</td>\n",
       "      <td>MVALLLFPMLLQLLSPTCAQTQKNITLGSTLAPQGPASSWLSPSGD...</td>\n",
       "    </tr>\n",
       "    <tr>\n",
       "      <th>2</th>\n",
       "      <td>seq_2</td>\n",
       "      <td>1</td>\n",
       "      <td>MDILQLAPTHLLAILLSSTSALFLITYLLRAGHRPSDLPNGPPTVP...</td>\n",
       "    </tr>\n",
       "    <tr>\n",
       "      <th>3</th>\n",
       "      <td>seq_3</td>\n",
       "      <td>1</td>\n",
       "      <td>MRLHQSPPRLLVCILSVLQVSAGLSSNCRCMPGDSCWPSLNDWARF...</td>\n",
       "    </tr>\n",
       "    <tr>\n",
       "      <th>4</th>\n",
       "      <td>seq_4</td>\n",
       "      <td>1</td>\n",
       "      <td>MAKIDVHHHFYPPAMRQALDRAGGDPSGWYIPPWTLELDQDITRQM...</td>\n",
       "    </tr>\n",
       "  </tbody>\n",
       "</table>\n",
       "</div>"
      ],
      "text/plain": [
       "      ID  Label                                           sequence\n",
       "0  seq_0      1  MANILNLKHLLTLALILLALATKSSTSSSSSITRVKGIYWLENPFF...\n",
       "1  seq_1      1  MVALLLFPMLLQLLSPTCAQTQKNITLGSTLAPQGPASSWLSPSGD...\n",
       "2  seq_2      1  MDILQLAPTHLLAILLSSTSALFLITYLLRAGHRPSDLPNGPPTVP...\n",
       "3  seq_3      1  MRLHQSPPRLLVCILSVLQVSAGLSSNCRCMPGDSCWPSLNDWARF...\n",
       "4  seq_4      1  MAKIDVHHHFYPPAMRQALDRAGGDPSGWYIPPWTLELDQDITRQM..."
      ]
     },
     "execution_count": 3,
     "metadata": {},
     "output_type": "execute_result"
    }
   ],
   "source": [
    "training = 'Data/Train.fasta'\n",
    "tr_records = SeqIO.parse(training, 'fasta')\n",
    "tr_data = []\n",
    "for record in tr_records:\n",
    "    # Extract the sequence ID (before \"_label\") and the label (after \"_label\")\n",
    "    parts = record.id.split('_')\n",
    "    seq_id = '_'.join(parts[:-2])  # Join the parts of ID before \"_label\"\n",
    "    label = parts[-1]  # The label is the last part after \"_label\"\n",
    "    \n",
    "    tr_data.append({\"ID\": seq_id, \"Label\": label, \"sequence\": str(record.seq)})\n",
    "df_training = pd.DataFrame(tr_data)\n",
    "df_training['Label'] = df_training['Label'].astype(int)\n",
    "df_training.head()"
   ]
  },
  {
   "cell_type": "code",
   "execution_count": 4,
   "id": "af772752",
   "metadata": {},
   "outputs": [
    {
     "data": {
      "text/html": [
       "<div>\n",
       "<style scoped>\n",
       "    .dataframe tbody tr th:only-of-type {\n",
       "        vertical-align: middle;\n",
       "    }\n",
       "\n",
       "    .dataframe tbody tr th {\n",
       "        vertical-align: top;\n",
       "    }\n",
       "\n",
       "    .dataframe thead th {\n",
       "        text-align: right;\n",
       "    }\n",
       "</style>\n",
       "<table border=\"1\" class=\"dataframe\">\n",
       "  <thead>\n",
       "    <tr style=\"text-align: right;\">\n",
       "      <th></th>\n",
       "      <th>ID</th>\n",
       "      <th>Label</th>\n",
       "      <th>sequence</th>\n",
       "    </tr>\n",
       "  </thead>\n",
       "  <tbody>\n",
       "    <tr>\n",
       "      <th>0</th>\n",
       "      <td>seq_0</td>\n",
       "      <td>1</td>\n",
       "      <td>MANILNLKHLLTLALILLALATKSSTSSSSSITRVKGIYWLENPFF...</td>\n",
       "    </tr>\n",
       "    <tr>\n",
       "      <th>1</th>\n",
       "      <td>seq_1</td>\n",
       "      <td>1</td>\n",
       "      <td>MVALLLFPMLLQLLSPTCAQTQKNITLGSTLAPQGPASSWLSPSGD...</td>\n",
       "    </tr>\n",
       "    <tr>\n",
       "      <th>2</th>\n",
       "      <td>seq_2</td>\n",
       "      <td>1</td>\n",
       "      <td>MDILQLAPTHLLAILLSSTSALFLITYLLRAGHRPSDLPNGPPTVP...</td>\n",
       "    </tr>\n",
       "    <tr>\n",
       "      <th>3</th>\n",
       "      <td>seq_3</td>\n",
       "      <td>1</td>\n",
       "      <td>MRLHQSPPRLLVCILSVLQVSAGLSSNCRCMPGDSCWPSLNDWARF...</td>\n",
       "    </tr>\n",
       "    <tr>\n",
       "      <th>4</th>\n",
       "      <td>seq_4</td>\n",
       "      <td>1</td>\n",
       "      <td>MAKIDVHHHFYPPAMRQALDRAGGDPSGWYIPPWTLELDQDITRQM...</td>\n",
       "    </tr>\n",
       "  </tbody>\n",
       "</table>\n",
       "</div>"
      ],
      "text/plain": [
       "      ID  Label                                           sequence\n",
       "0  seq_0      1  MANILNLKHLLTLALILLALATKSSTSSSSSITRVKGIYWLENPFF...\n",
       "1  seq_1      1  MVALLLFPMLLQLLSPTCAQTQKNITLGSTLAPQGPASSWLSPSGD...\n",
       "2  seq_2      1  MDILQLAPTHLLAILLSSTSALFLITYLLRAGHRPSDLPNGPPTVP...\n",
       "3  seq_3      1  MRLHQSPPRLLVCILSVLQVSAGLSSNCRCMPGDSCWPSLNDWARF...\n",
       "4  seq_4      1  MAKIDVHHHFYPPAMRQALDRAGGDPSGWYIPPWTLELDQDITRQM..."
      ]
     },
     "execution_count": 4,
     "metadata": {},
     "output_type": "execute_result"
    }
   ],
   "source": [
    "testing = 'Data/Train.fasta'\n",
    "t_records = SeqIO.parse(training, 'fasta')\n",
    "t_data = []\n",
    "for record in t_records:\n",
    "    # Extract the sequence ID (before \"_label\") and the label (after \"_label\")\n",
    "    parts = record.id.split('_')\n",
    "    seq_id = '_'.join(parts[:-2])  # Join the parts of ID before \"_label\"\n",
    "    label = parts[-1]  # The label is the last part after \"_label\"\n",
    "    \n",
    "    t_data.append({\"ID\": seq_id, \"Label\": label, \"sequence\": str(record.seq)})\n",
    "df_testing = pd.DataFrame(t_data)\n",
    "df_testing['Label'] = df_training['Label'].astype(int)\n",
    "df_testing.head()"
   ]
  },
  {
   "cell_type": "markdown",
   "id": "8d820cba",
   "metadata": {},
   "source": [
    "# Using LLM"
   ]
  },
  {
   "cell_type": "markdown",
   "id": "d322f37d",
   "metadata": {},
   "source": [
    "## Data Preparation"
   ]
  },
  {
   "cell_type": "markdown",
   "id": "27d1fc17",
   "metadata": {},
   "source": [
    "Convert dataframe of sequences to list of sequences. This is to pre-process a dataset of protein sequence in a format that can processed by an LLM later on."
   ]
  },
  {
   "cell_type": "code",
   "execution_count": 5,
   "id": "e725d2ea",
   "metadata": {},
   "outputs": [],
   "source": [
    "protein_sequences = list(df_training['sequence'])"
   ]
  },
  {
   "cell_type": "code",
   "execution_count": null,
   "id": "4b3652d9",
   "metadata": {},
   "outputs": [],
   "source": [
    "# Load a pre-trained protein model tokenizer, for example, ProtBERT tokenizer.\n",
    "from transformers import AutoTokenizer\n",
    "\n",
    "tokenizer = AutoTokenizer.from_pretrained(\"Rostlab/prot_bert\")\n",
    "max_length = 150\n",
    "# Tokenize the protein sequences\n",
    "tokenized_sequences = tokenizer(protein_sequences, \n",
    "                                padding=True, \n",
    "                                truncation=True, \n",
    "                                max_length=max_length, \n",
    "                                return_tensors=\"pt\")"
   ]
  },
  {
   "cell_type": "markdown",
   "id": "a54c156f",
   "metadata": {},
   "source": [
    "## Using Pre-trained LLM (ProtBERT)"
   ]
  },
  {
   "cell_type": "code",
   "execution_count": null,
   "id": "ffb7d2b3",
   "metadata": {},
   "outputs": [],
   "source": [
    "from transformers import AutoModel, AutoTokenizer\n",
    "import torch\n",
    "\n",
    "# Load the pre-trained model\n",
    "model = AutoModel.from_pretrained(\"Rostlab/prot_bert\")\n",
    "\n",
    "# Get embeddings for the tokenized sequences\n",
    "with torch.no_grad():\n",
    "    embeddings = model(**tokenized_sequences).last_hidden_state\n"
   ]
  },
  {
   "cell_type": "markdown",
   "id": "3b58ec5a",
   "metadata": {},
   "source": [
    "## Add a Binary Classification Head"
   ]
  },
  {
   "cell_type": "code",
   "execution_count": null,
   "id": "776684ef",
   "metadata": {},
   "outputs": [],
   "source": [
    "import torch\n",
    "import torch.nn as nn\n",
    "\n",
    "# Define a simple binary classification head\n",
    "class ProteinBinaryClassifier(nn.Module):\n",
    "    def __init__(self, embedding_dim):\n",
    "        super(ProteinBinaryClassifier, self).__init__()\n",
    "        self.fc = nn.Linear(embedding_dim, 1)  # Binary classification\n",
    "        self.sigmoid = nn.Sigmoid()\n",
    "\n",
    "    def forward(self, embeddings):\n",
    "        # Use the first token (CLS token) as a representation\n",
    "        cls_token_embedding = embeddings[:, 0, :]  # Taking the [CLS] token representation\n",
    "        output = self.fc(cls_token_embedding)\n",
    "        return self.sigmoid(output)\n",
    "\n",
    "# Initialize the classifier\n",
    "embedding_dim = embeddings.size(-1)\n",
    "classifier = ProteinBinaryClassifier(embedding_dim)\n"
   ]
  },
  {
   "cell_type": "code",
   "execution_count": null,
   "id": "d99738b9",
   "metadata": {},
   "outputs": [],
   "source": []
  },
  {
   "cell_type": "code",
   "execution_count": null,
   "id": "4dfd7217",
   "metadata": {},
   "outputs": [],
   "source": []
  }
 ],
 "metadata": {
  "kernelspec": {
   "display_name": "Python 3",
   "language": "python",
   "name": "python3"
  },
  "language_info": {
   "codemirror_mode": {
    "name": "ipython",
    "version": 3
   },
   "file_extension": ".py",
   "mimetype": "text/x-python",
   "name": "python",
   "nbconvert_exporter": "python",
   "pygments_lexer": "ipython3",
   "version": "3.10.11"
  }
 },
 "nbformat": 4,
 "nbformat_minor": 5
}
