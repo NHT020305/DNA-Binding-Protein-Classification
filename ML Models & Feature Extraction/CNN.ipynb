{
 "cells": [
  {
   "cell_type": "code",
   "execution_count": 32,
   "metadata": {
    "executionInfo": {
     "elapsed": 3,
     "status": "ok",
     "timestamp": 1730481040896,
     "user": {
      "displayName": "An Nguyen",
      "userId": "10376814865507008633"
     },
     "user_tz": -480
    },
    "id": "1wRLhbbgCBXq"
   },
   "outputs": [],
   "source": [
    "#load packages\n",
    "import numpy as np\n",
    "import tensorflow as tf\n",
    "from Bio import SeqIO\n",
    "import matplotlib.pyplot as plt\n",
    "from tensorflow.keras.preprocessing.text import Tokenizer\n",
    "from tensorflow.keras.preprocessing.sequence import pad_sequences\n",
    "from tensorflow.keras.utils import to_categorical\n",
    "from tensorflow.keras.models import Sequential\n",
    "from tensorflow.keras.models import load_model #library to save model later\n",
    "from tensorflow.keras.layers import Conv1D, MaxPooling1D, Dense, Flatten, Dropout, Embedding,Reshape\n",
    "from tensorflow.keras.utils import to_categorical\n",
    "from sklearn.preprocessing import OneHotEncoder\n",
    "from sklearn.metrics import confusion_matrix, roc_auc_score, matthews_corrcoef, roc_curve, accuracy_score, auc\n",
    "from sklearn.utils import class_weight"
   ]
  },
  {
   "cell_type": "code",
   "execution_count": 33,
   "metadata": {
    "colab": {
     "base_uri": "https://localhost:8080/"
    },
    "executionInfo": {
     "elapsed": 1956,
     "status": "ok",
     "timestamp": 1730481042849,
     "user": {
      "displayName": "An Nguyen",
      "userId": "10376814865507008633"
     },
     "user_tz": -480
    },
    "id": "kCYq7LZiGVY3",
    "outputId": "8bb46637-c8bf-4bc0-f584-b02757dc4e41"
   },
   "outputs": [
    {
     "name": "stdout",
     "output_type": "stream",
     "text": [
      "Drive already mounted at /content/drive; to attempt to forcibly remount, call drive.mount(\"/content/drive\", force_remount=True).\n"
     ]
    }
   ],
   "source": [
    "from google.colab import drive\n",
    "drive.mount('/content/drive')"
   ]
  },
  {
   "cell_type": "markdown",
   "metadata": {
    "id": "6BKKwoHyEfbZ"
   },
   "source": [
    "# Data Pre-processing\n",
    "Here, we are going to clean the training dataset and testing dataset. We will filter the sequences by removing the sequences in training set and testing dataset with 'X' occurences.\n",
    "\n",
    "The new training dataset and testing dataset will be saved as `Train_valid.fasta` and `Test_valid.fasta` respectively. We will be using the new training and testing datasets for the remaining of our work for CNN."
   ]
  },
  {
   "cell_type": "code",
   "execution_count": 34,
   "metadata": {
    "executionInfo": {
     "elapsed": 4,
     "status": "ok",
     "timestamp": 1730481042849,
     "user": {
      "displayName": "An Nguyen",
      "userId": "10376814865507008633"
     },
     "user_tz": -480
    },
    "id": "P2z7b5BtFMTe"
   },
   "outputs": [],
   "source": [
    "# Define a function to filter sequences without 'X' and write to new file\n",
    "def filter(input_file, output_file):\n",
    "    with open(output_file, \"w\") as output_handle:\n",
    "        # Read sequences from input file\n",
    "        for record in SeqIO.parse(input_file, \"fasta\"):\n",
    "            # Check if 'X' is present in the sequence\n",
    "            if 'X' not in record.seq:\n",
    "                # Write valid sequence to output file\n",
    "                SeqIO.write(record, output_handle, \"fasta\")"
   ]
  },
  {
   "cell_type": "code",
   "execution_count": 35,
   "metadata": {
    "executionInfo": {
     "elapsed": 3,
     "status": "ok",
     "timestamp": 1730481042849,
     "user": {
      "displayName": "An Nguyen",
      "userId": "10376814865507008633"
     },
     "user_tz": -480
    },
    "id": "qw_Y2DiVF3VF"
   },
   "outputs": [],
   "source": [
    "# File paths\n",
    "train_input = \"/content/drive/MyDrive/IT1244 Group Project/For submission/Model & Data Set/Train.fasta\"\n",
    "test_input = \"/content/drive/MyDrive/IT1244 Group Project/For submission/Model & Data Set/Test.fasta\"\n",
    "train_output = \"/content/drive/MyDrive/IT1244 Group Project/For submission/Model & Data Set/Train_valid.fasta\"\n",
    "test_output = \"/content/drive/MyDrive/IT1244 Group Project/For submission/Model & Data Set/Test_valid.fasta\""
   ]
  },
  {
   "cell_type": "code",
   "execution_count": 36,
   "metadata": {
    "executionInfo": {
     "elapsed": 4917,
     "status": "ok",
     "timestamp": 1730481047763,
     "user": {
      "displayName": "An Nguyen",
      "userId": "10376814865507008633"
     },
     "user_tz": -480
    },
    "id": "2DwMYuiYF48v"
   },
   "outputs": [],
   "source": [
    "# Filter and save valid sequences\n",
    "filter(train_input, train_output)\n",
    "filter(test_input, test_output)"
   ]
  },
  {
   "cell_type": "markdown",
   "metadata": {
    "id": "uR2w0j4KCrX8"
   },
   "source": [
    "# Load New Dataset"
   ]
  },
  {
   "cell_type": "code",
   "execution_count": 37,
   "metadata": {
    "executionInfo": {
     "elapsed": 4,
     "status": "ok",
     "timestamp": 1730481047764,
     "user": {
      "displayName": "An Nguyen",
      "userId": "10376814865507008633"
     },
     "user_tz": -480
    },
    "id": "20Y-XZvACxm7"
   },
   "outputs": [],
   "source": [
    "# file path of new training and testing dataset\n",
    "train_path = train_output\n",
    "test_path = test_output"
   ]
  },
  {
   "cell_type": "code",
   "execution_count": 38,
   "metadata": {
    "executionInfo": {
     "elapsed": 1234,
     "status": "ok",
     "timestamp": 1730481048995,
     "user": {
      "displayName": "An Nguyen",
      "userId": "10376814865507008633"
     },
     "user_tz": -480
    },
    "id": "VNGtmH8_C5Jr"
   },
   "outputs": [],
   "source": [
    "y_train = [int(record.description.split('_')[-1]) for record in SeqIO.parse(train_path,'fasta')]\n",
    "y_test = [int(record.description.split('_')[-1]) for record in SeqIO.parse(test_path,'fasta')]"
   ]
  },
  {
   "cell_type": "code",
   "execution_count": 39,
   "metadata": {
    "executionInfo": {
     "elapsed": 1015,
     "status": "ok",
     "timestamp": 1730481050009,
     "user": {
      "displayName": "An Nguyen",
      "userId": "10376814865507008633"
     },
     "user_tz": -480
    },
    "id": "oJuIDx8bC6z4"
   },
   "outputs": [],
   "source": [
    "X_train = [record.seq for record in SeqIO.parse(train_path,'fasta')]\n",
    "X_test = [record.seq for record in SeqIO.parse(test_path,'fasta')]"
   ]
  },
  {
   "cell_type": "markdown",
   "metadata": {
    "id": "Se0prCn9-NgU"
   },
   "source": [
    "# Deal with imbalance data"
   ]
  },
  {
   "cell_type": "code",
   "execution_count": 40,
   "metadata": {
    "executionInfo": {
     "elapsed": 6,
     "status": "ok",
     "timestamp": 1730481050009,
     "user": {
      "displayName": "An Nguyen",
      "userId": "10376814865507008633"
     },
     "user_tz": -480
    },
    "id": "wHKZiam9-PTq"
   },
   "outputs": [],
   "source": [
    "# Calculate class weights based on training labels\n",
    "class_weights = class_weight.compute_class_weight('balanced', classes=np.unique(y_train), y=y_train)\n",
    "class_weights_dict = dict(enumerate(class_weights))"
   ]
  },
  {
   "cell_type": "code",
   "execution_count": 41,
   "metadata": {
    "colab": {
     "base_uri": "https://localhost:8080/"
    },
    "executionInfo": {
     "elapsed": 5,
     "status": "ok",
     "timestamp": 1730481050009,
     "user": {
      "displayName": "An Nguyen",
      "userId": "10376814865507008633"
     },
     "user_tz": -480
    },
    "id": "cwDFFFVuaaYM",
    "outputId": "488f8662-286d-446a-eb57-15beb369d651"
   },
   "outputs": [
    {
     "data": {
      "text/plain": [
       "53261"
      ]
     },
     "execution_count": 41,
     "metadata": {},
     "output_type": "execute_result"
    }
   ],
   "source": [
    "len(X_train)"
   ]
  },
  {
   "cell_type": "code",
   "execution_count": 42,
   "metadata": {
    "colab": {
     "base_uri": "https://localhost:8080/"
    },
    "executionInfo": {
     "elapsed": 4,
     "status": "ok",
     "timestamp": 1730481050009,
     "user": {
      "displayName": "An Nguyen",
      "userId": "10376814865507008633"
     },
     "user_tz": -480
    },
    "id": "DU22Mpo_afzu",
    "outputId": "32fdfb16-d99c-4ee9-a172-bd6dbd9eb5b4"
   },
   "outputs": [
    {
     "data": {
      "text/plain": [
       "13449"
      ]
     },
     "execution_count": 42,
     "metadata": {},
     "output_type": "execute_result"
    }
   ],
   "source": [
    "len(X_test)"
   ]
  },
  {
   "cell_type": "markdown",
   "metadata": {
    "id": "unDtnG5RDGKS"
   },
   "source": [
    "# Feature Extractions"
   ]
  },
  {
   "cell_type": "markdown",
   "metadata": {
    "id": "V9t4Sk88DUvY"
   },
   "source": [
    "## 1. Embedding\n",
    "For the embedding, we’ll assign each amino acid a unique integer and use keras embeddings with padding to a fixed length."
   ]
  },
  {
   "cell_type": "code",
   "execution_count": 43,
   "metadata": {
    "executionInfo": {
     "elapsed": 3,
     "status": "ok",
     "timestamp": 1730481050009,
     "user": {
      "displayName": "An Nguyen",
      "userId": "10376814865507008633"
     },
     "user_tz": -480
    },
    "id": "T_61CqADYoFA"
   },
   "outputs": [],
   "source": [
    "max_length = 1200 # max_length for padding and truncation"
   ]
  },
  {
   "cell_type": "code",
   "execution_count": 44,
   "metadata": {
    "executionInfo": {
     "elapsed": 17373,
     "status": "ok",
     "timestamp": 1730481067380,
     "user": {
      "displayName": "An Nguyen",
      "userId": "10376814865507008633"
     },
     "user_tz": -480
    },
    "id": "2xe-5oweDXeS"
   },
   "outputs": [],
   "source": [
    "# Tokenize characters for Train dataset\n",
    "X_train_tokenizer = Tokenizer(char_level=True)\n",
    "X_train_tokenizer.fit_on_texts(X_train)\n",
    "X_train_encoded_sequences = X_train_tokenizer.texts_to_sequences(X_train)"
   ]
  },
  {
   "cell_type": "code",
   "execution_count": 45,
   "metadata": {
    "executionInfo": {
     "elapsed": 7295,
     "status": "ok",
     "timestamp": 1730481074673,
     "user": {
      "displayName": "An Nguyen",
      "userId": "10376814865507008633"
     },
     "user_tz": -480
    },
    "id": "x5Qsd3EHDZYw"
   },
   "outputs": [],
   "source": [
    "# Tokenize characters for Test dataset\n",
    "X_test_tokenizer = Tokenizer(char_level=True)\n",
    "X_test_tokenizer.fit_on_texts(X_train)\n",
    "X_test_encoded_sequences = X_test_tokenizer.texts_to_sequences(X_test)"
   ]
  },
  {
   "cell_type": "code",
   "execution_count": 46,
   "metadata": {
    "executionInfo": {
     "elapsed": 1557,
     "status": "ok",
     "timestamp": 1730481076227,
     "user": {
      "displayName": "An Nguyen",
      "userId": "10376814865507008633"
     },
     "user_tz": -480
    },
    "id": "oqH8JZ8sDbf9"
   },
   "outputs": [],
   "source": [
    "# Pad sequences to a fixed length\n",
    "X_train_1 = pad_sequences(X_train_encoded_sequences, maxlen=max_length, padding='post')\n",
    "X_test_1 = pad_sequences(X_test_encoded_sequences, maxlen=max_length, padding='post')"
   ]
  },
  {
   "cell_type": "markdown",
   "metadata": {
    "id": "8XQiIkNGDhDj"
   },
   "source": [
    "Each sequence is now represented as a vector of integers, padded to 1200 positions with zeros."
   ]
  },
  {
   "cell_type": "code",
   "execution_count": 47,
   "metadata": {
    "colab": {
     "base_uri": "https://localhost:8080/"
    },
    "executionInfo": {
     "elapsed": 4,
     "status": "ok",
     "timestamp": 1730481076227,
     "user": {
      "displayName": "An Nguyen",
      "userId": "10376814865507008633"
     },
     "user_tz": -480
    },
    "id": "vtAv3uNsaTQW",
    "outputId": "2d12b3e9-cb71-442b-fa36-3166016c89b3"
   },
   "outputs": [
    {
     "data": {
      "text/plain": [
       "(53261, 1200)"
      ]
     },
     "execution_count": 47,
     "metadata": {},
     "output_type": "execute_result"
    }
   ],
   "source": [
    "X_train_1.shape"
   ]
  },
  {
   "cell_type": "code",
   "execution_count": 48,
   "metadata": {
    "colab": {
     "base_uri": "https://localhost:8080/"
    },
    "executionInfo": {
     "elapsed": 3,
     "status": "ok",
     "timestamp": 1730481076227,
     "user": {
      "displayName": "An Nguyen",
      "userId": "10376814865507008633"
     },
     "user_tz": -480
    },
    "id": "W8u7LyGGaVq_",
    "outputId": "3fe28457-ca09-4f19-b756-2cc776a6f225"
   },
   "outputs": [
    {
     "data": {
      "text/plain": [
       "(13449, 1200)"
      ]
     },
     "execution_count": 48,
     "metadata": {},
     "output_type": "execute_result"
    }
   ],
   "source": [
    "X_test_1.shape"
   ]
  },
  {
   "cell_type": "markdown",
   "metadata": {
    "id": "ohe4iMiXDmVa"
   },
   "source": [
    "## 2. Integer encoding\n",
    "Here, we'll encode the amino acids as specific integers based on the provided values (e.g., A=1, C=2, D=3, etc.) We also perform embedding here."
   ]
  },
  {
   "cell_type": "code",
   "execution_count": 49,
   "metadata": {
    "executionInfo": {
     "elapsed": 2,
     "status": "ok",
     "timestamp": 1730481076227,
     "user": {
      "displayName": "An Nguyen",
      "userId": "10376814865507008633"
     },
     "user_tz": -480
    },
    "id": "ItdrY9dcEBxU"
   },
   "outputs": [],
   "source": [
    "# Amino acid integer encoding dictionary\n",
    "integer_encoding = {\n",
    "    'A': 1, 'C': 2, 'D': 3, 'E': 4, 'F': 5, 'G': 6, 'H': 7, 'I': 8, 'K': 9,\n",
    "    'L': 10, 'M': 11, 'N': 12, 'P': 13, 'Q': 14, 'R': 15, 'S': 16, 'T': 17,\n",
    "    'V': 18, 'W': 19, 'Y': 20,'U': 0,}"
   ]
  },
  {
   "cell_type": "code",
   "execution_count": 50,
   "metadata": {
    "executionInfo": {
     "elapsed": 3470,
     "status": "ok",
     "timestamp": 1730481079695,
     "user": {
      "displayName": "An Nguyen",
      "userId": "10376814865507008633"
     },
     "user_tz": -480
    },
    "id": "-VE-MKOfGg0Q"
   },
   "outputs": [],
   "source": [
    "# Encode sequences with amino acid integer encoding\n",
    "X_train_integer_encoded = [\n",
    "    [integer_encoding.get(aa, 0) for aa in sequence] for sequence in X_train\n",
    "]\n",
    "X_test_integer_encoded = [\n",
    "    [integer_encoding.get(aa, 0) for aa in sequence] for sequence in X_test\n",
    "]"
   ]
  },
  {
   "cell_type": "code",
   "execution_count": 51,
   "metadata": {
    "executionInfo": {
     "elapsed": 1665,
     "status": "ok",
     "timestamp": 1730481081358,
     "user": {
      "displayName": "An Nguyen",
      "userId": "10376814865507008633"
     },
     "user_tz": -480
    },
    "id": "bjU-wlSgGg9r"
   },
   "outputs": [],
   "source": [
    "# Pad to a fixed length\n",
    "X_train_2 = pad_sequences(X_train_integer_encoded, maxlen=max_length, padding='post')\n",
    "X_test_2 = pad_sequences(X_test_integer_encoded, maxlen=max_length, padding='post')"
   ]
  },
  {
   "cell_type": "markdown",
   "metadata": {
    "id": "tRwqXjQuGoal"
   },
   "source": [
    "This matrix will have dimensions (num_sequences, max_length) with each sequence represented by integer encodings, padded with zeros."
   ]
  },
  {
   "cell_type": "code",
   "execution_count": 52,
   "metadata": {
    "colab": {
     "base_uri": "https://localhost:8080/"
    },
    "executionInfo": {
     "elapsed": 5,
     "status": "ok",
     "timestamp": 1730481081358,
     "user": {
      "displayName": "An Nguyen",
      "userId": "10376814865507008633"
     },
     "user_tz": -480
    },
    "id": "aeQG6s0maqF3",
    "outputId": "2ec8378b-98ca-4737-8c43-c108cec7c5d4"
   },
   "outputs": [
    {
     "data": {
      "text/plain": [
       "(53261, 1200)"
      ]
     },
     "execution_count": 52,
     "metadata": {},
     "output_type": "execute_result"
    }
   ],
   "source": [
    "X_train_2.shape"
   ]
  },
  {
   "cell_type": "code",
   "execution_count": 53,
   "metadata": {
    "colab": {
     "base_uri": "https://localhost:8080/"
    },
    "executionInfo": {
     "elapsed": 3,
     "status": "ok",
     "timestamp": 1730481081358,
     "user": {
      "displayName": "An Nguyen",
      "userId": "10376814865507008633"
     },
     "user_tz": -480
    },
    "id": "tj0LNqqYaqH4",
    "outputId": "c92e810b-de69-47b7-a862-4c9a52cc7795"
   },
   "outputs": [
    {
     "data": {
      "text/plain": [
       "(13449, 1200)"
      ]
     },
     "execution_count": 53,
     "metadata": {},
     "output_type": "execute_result"
    }
   ],
   "source": [
    "X_test_2.shape"
   ]
  },
  {
   "cell_type": "code",
   "execution_count": 54,
   "metadata": {
    "colab": {
     "base_uri": "https://localhost:8080/"
    },
    "executionInfo": {
     "elapsed": 3,
     "status": "ok",
     "timestamp": 1730481081359,
     "user": {
      "displayName": "An Nguyen",
      "userId": "10376814865507008633"
     },
     "user_tz": -480
    },
    "id": "ClH309s5aurZ",
    "outputId": "f7d0a53a-4abe-4a6f-a5ca-8541fe2427b7"
   },
   "outputs": [
    {
     "name": "stdout",
     "output_type": "stream",
     "text": [
      "First sequence encoded by Feature 1 in training data:  [18  3 13 ...  0  0  0]\n",
      "First sequence encoded by Feature 2 in training data:  [11  1 12 ...  0  0  0]\n"
     ]
    }
   ],
   "source": [
    "print('First sequence encoded by Feature 1 in training data: ', X_train_1[0])\n",
    "print('First sequence encoded by Feature 2 in training data: ', X_train_2[0])\n"
   ]
  },
  {
   "cell_type": "markdown",
   "metadata": {
    "id": "j7i9yUc9VXtS"
   },
   "source": [
    "# Build CNN"
   ]
  },
  {
   "cell_type": "code",
   "execution_count": 55,
   "metadata": {
    "executionInfo": {
     "elapsed": 2,
     "status": "ok",
     "timestamp": 1730481081359,
     "user": {
      "displayName": "An Nguyen",
      "userId": "10376814865507008633"
     },
     "user_tz": -480
    },
    "id": "AFaygczpVppR"
   },
   "outputs": [],
   "source": [
    "# Define the CNN model\n",
    "def build_cnn(input_shape):\n",
    "    model = Sequential()\n",
    "    model.add(Conv1D(64, kernel_size=3, activation='relu', input_shape=input_shape))\n",
    "    model.add(MaxPooling1D(pool_size=2))\n",
    "    model.add(Conv1D(128, kernel_size=3, activation='relu'))\n",
    "    model.add(MaxPooling1D(pool_size=2))\n",
    "    model.add(Flatten())\n",
    "    model.add(Dense(128, activation='relu'))\n",
    "    model.add(Dropout(0.5))\n",
    "    model.add(Dense(2, activation='softmax'))  # Assuming binary classification\n",
    "    model.compile(optimizer='adam', loss='sparse_categorical_crossentropy', metrics=['accuracy'])\n",
    "    return model"
   ]
  },
  {
   "cell_type": "markdown",
   "metadata": {
    "id": "2T6PNFhQVrLG"
   },
   "source": [
    "## Fit with Feature 1: Embedding"
   ]
  },
  {
   "cell_type": "code",
   "execution_count": 56,
   "metadata": {
    "executionInfo": {
     "elapsed": 2,
     "status": "ok",
     "timestamp": 1730481081359,
     "user": {
      "displayName": "An Nguyen",
      "userId": "10376814865507008633"
     },
     "user_tz": -480
    },
    "id": "l9RWzlAjGndd"
   },
   "outputs": [],
   "source": [
    "# Reshape the input data by adding a channel dimension\n",
    "X_train_1_reshaped = np.expand_dims(X_train_1, axis=-1).astype(np.int32)\n",
    "X_test_1_reshaped = np.expand_dims(X_test_1, axis=-1).astype(np.int32)\n",
    "y_train = np.array(y_train, dtype=np.float32)\n",
    "y_test = np.array(y_test, dtype=np.float32)\n"
   ]
  },
  {
   "cell_type": "code",
   "execution_count": 57,
   "metadata": {
    "colab": {
     "base_uri": "https://localhost:8080/"
    },
    "executionInfo": {
     "elapsed": 268074,
     "status": "ok",
     "timestamp": 1730481349431,
     "user": {
      "displayName": "An Nguyen",
      "userId": "10376814865507008633"
     },
     "user_tz": -480
    },
    "id": "Hz5VWIzZbN4U",
    "outputId": "06345963-9248-4dd5-ca2a-ab55853111da"
   },
   "outputs": [
    {
     "name": "stderr",
     "output_type": "stream",
     "text": [
      "/usr/local/lib/python3.10/dist-packages/keras/src/layers/convolutional/base_conv.py:107: UserWarning: Do not pass an `input_shape`/`input_dim` argument to a layer. When using Sequential models, prefer using an `Input(shape)` object as the first layer in the model instead.\n",
      "  super().__init__(activity_regularizer=activity_regularizer, **kwargs)\n"
     ]
    },
    {
     "name": "stdout",
     "output_type": "stream",
     "text": [
      "Epoch 1/10\n",
      "\u001b[1m1665/1665\u001b[0m \u001b[32m━━━━━━━━━━━━━━━━━━━━\u001b[0m\u001b[37m\u001b[0m \u001b[1m22s\u001b[0m 12ms/step - accuracy: 0.6319 - loss: 0.7520 - val_accuracy: 0.5917 - val_loss: 0.6595\n",
      "Epoch 2/10\n",
      "\u001b[1m1665/1665\u001b[0m \u001b[32m━━━━━━━━━━━━━━━━━━━━\u001b[0m\u001b[37m\u001b[0m \u001b[1m47s\u001b[0m 16ms/step - accuracy: 0.6283 - loss: 0.6373 - val_accuracy: 0.6312 - val_loss: 0.6295\n",
      "Epoch 3/10\n",
      "\u001b[1m1665/1665\u001b[0m \u001b[32m━━━━━━━━━━━━━━━━━━━━\u001b[0m\u001b[37m\u001b[0m \u001b[1m31s\u001b[0m 10ms/step - accuracy: 0.6342 - loss: 0.6309 - val_accuracy: 0.6246 - val_loss: 0.6325\n",
      "Epoch 4/10\n",
      "\u001b[1m1665/1665\u001b[0m \u001b[32m━━━━━━━━━━━━━━━━━━━━\u001b[0m\u001b[37m\u001b[0m \u001b[1m24s\u001b[0m 12ms/step - accuracy: 0.6323 - loss: 0.6328 - val_accuracy: 0.6137 - val_loss: 0.6415\n",
      "Epoch 5/10\n",
      "\u001b[1m1665/1665\u001b[0m \u001b[32m━━━━━━━━━━━━━━━━━━━━\u001b[0m\u001b[37m\u001b[0m \u001b[1m16s\u001b[0m 10ms/step - accuracy: 0.6453 - loss: 0.6250 - val_accuracy: 0.6222 - val_loss: 0.6389\n",
      "Epoch 6/10\n",
      "\u001b[1m1665/1665\u001b[0m \u001b[32m━━━━━━━━━━━━━━━━━━━━\u001b[0m\u001b[37m\u001b[0m \u001b[1m26s\u001b[0m 13ms/step - accuracy: 0.6462 - loss: 0.6230 - val_accuracy: 0.6466 - val_loss: 0.6344\n",
      "Epoch 7/10\n",
      "\u001b[1m1665/1665\u001b[0m \u001b[32m━━━━━━━━━━━━━━━━━━━━\u001b[0m\u001b[37m\u001b[0m \u001b[1m18s\u001b[0m 11ms/step - accuracy: 0.6553 - loss: 0.6186 - val_accuracy: 0.6254 - val_loss: 0.6463\n",
      "Epoch 8/10\n",
      "\u001b[1m1665/1665\u001b[0m \u001b[32m━━━━━━━━━━━━━━━━━━━━\u001b[0m\u001b[37m\u001b[0m \u001b[1m23s\u001b[0m 12ms/step - accuracy: 0.6645 - loss: 0.6107 - val_accuracy: 0.6559 - val_loss: 0.6354\n",
      "Epoch 9/10\n",
      "\u001b[1m1665/1665\u001b[0m \u001b[32m━━━━━━━━━━━━━━━━━━━━\u001b[0m\u001b[37m\u001b[0m \u001b[1m39s\u001b[0m 11ms/step - accuracy: 0.6753 - loss: 0.6001 - val_accuracy: 0.6314 - val_loss: 0.6734\n",
      "Epoch 10/10\n",
      "\u001b[1m1665/1665\u001b[0m \u001b[32m━━━━━━━━━━━━━━━━━━━━\u001b[0m\u001b[37m\u001b[0m \u001b[1m22s\u001b[0m 13ms/step - accuracy: 0.6948 - loss: 0.5849 - val_accuracy: 0.6319 - val_loss: 0.6879\n"
     ]
    },
    {
     "data": {
      "text/plain": [
       "<keras.src.callbacks.history.History at 0x79059ac47700>"
      ]
     },
     "execution_count": 57,
     "metadata": {},
     "output_type": "execute_result"
    }
   ],
   "source": [
    "#Define input shape for the model\n",
    "input_shape = (max_length, 1)\n",
    "\n",
    "# Build and compile the model\n",
    "cnn1 = build_cnn(input_shape)\n",
    "\n",
    "# Fit the model on the training data\n",
    "cnn1.fit(X_train_1_reshaped, y_train,\n",
    "                       validation_data=(X_test_1_reshaped, y_test),\n",
    "                       epochs=10,\n",
    "                       batch_size=32,\n",
    "                       class_weight=class_weights_dict)"
   ]
  },
  {
   "cell_type": "markdown",
   "metadata": {
    "id": "HDzVHgCNWHKU"
   },
   "source": [
    "### Perform Classification"
   ]
  },
  {
   "cell_type": "code",
   "execution_count": 58,
   "metadata": {
    "colab": {
     "base_uri": "https://localhost:8080/"
    },
    "executionInfo": {
     "elapsed": 3270,
     "status": "ok",
     "timestamp": 1730481352699,
     "user": {
      "displayName": "An Nguyen",
      "userId": "10376814865507008633"
     },
     "user_tz": -480
    },
    "id": "89UYsrpfWK5p",
    "outputId": "8010ac17-6a2d-4039-f2ee-1cf6f404ac53"
   },
   "outputs": [
    {
     "name": "stdout",
     "output_type": "stream",
     "text": [
      "\u001b[1m421/421\u001b[0m \u001b[32m━━━━━━━━━━━━━━━━━━━━\u001b[0m\u001b[37m\u001b[0m \u001b[1m2s\u001b[0m 3ms/step\n"
     ]
    }
   ],
   "source": [
    "# Get model predictions (probabilities)\n",
    "y_pred_probs_1 = cnn1.predict(X_test_1_reshaped)\n",
    "\n",
    "# Convert probabilities to binary predictions\n",
    "y_pred_1 = (y_pred_probs_1 > 0.5).astype(int)"
   ]
  },
  {
   "cell_type": "code",
   "execution_count": 59,
   "metadata": {
    "colab": {
     "base_uri": "https://localhost:8080/"
    },
    "executionInfo": {
     "elapsed": 7,
     "status": "ok",
     "timestamp": 1730481352699,
     "user": {
      "displayName": "An Nguyen",
      "userId": "10376814865507008633"
     },
     "user_tz": -480
    },
    "id": "ApMrfQprWNru",
    "outputId": "2b922a08-5c01-4223-e382-f66b57b9884e"
   },
   "outputs": [
    {
     "data": {
      "text/plain": [
       "array([1, 0, 1, ..., 0, 1, 0])"
      ]
     },
     "execution_count": 59,
     "metadata": {},
     "output_type": "execute_result"
    }
   ],
   "source": [
    "# Convert to class labels by selecting the index of the max probability in each pair\n",
    "y_pred_1 = np.argmax(y_pred_probs_1, axis=1)\n",
    "y_pred_1"
   ]
  },
  {
   "cell_type": "markdown",
   "metadata": {
    "id": "q6c3xweQWQQ8"
   },
   "source": [
    "### Performance Metrics"
   ]
  },
  {
   "cell_type": "code",
   "execution_count": 91,
   "metadata": {
    "colab": {
     "base_uri": "https://localhost:8080/"
    },
    "executionInfo": {
     "elapsed": 319,
     "status": "ok",
     "timestamp": 1730483428878,
     "user": {
      "displayName": "An Nguyen",
      "userId": "10376814865507008633"
     },
     "user_tz": -480
    },
    "id": "G_-iH-_pWUHO",
    "outputId": "9c9ce99c-99d7-4f77-94c6-a04d6493db5b"
   },
   "outputs": [
    {
     "name": "stdout",
     "output_type": "stream",
     "text": [
      "Sensitivity: 0.5473\n",
      "Specificity: 0.6740\n",
      "Accuracy: 0.6319\n",
      "MCC: 0.2129\n",
      "AUC-ROC: 0.6107\n"
     ]
    }
   ],
   "source": [
    "# Calculate confusion matrix\n",
    "tn1, fp1, fn1, tp1 = confusion_matrix(y_test, y_pred_1).ravel()\n",
    "\n",
    "# Sensitivity (Recall or True Positive Rate)\n",
    "sensitivity1 = tp1 / (tp1 + fn1)\n",
    "\n",
    "# Specificity (True Negative Rate)\n",
    "specificity1 = tn1 / (tn1 + fp1)\n",
    "\n",
    "# Accuracy\n",
    "accuracy1 = accuracy_score(y_test, y_pred_1)\n",
    "\n",
    "# Matthews Correlation Coefficient (MCC)\n",
    "mcc1 = matthews_corrcoef(y_test, y_pred_1)\n",
    "\n",
    "# Calculate AUC-ROC score\n",
    "auc_roc1 = roc_auc_score(y_test, y_pred_1)\n",
    "\n",
    "# Calculate ROC curve\n",
    "fpr1, tpr1, thresholds1 = roc_curve(y_test, y_pred_1)\n",
    "\n",
    "print(f\"Sensitivity: {sensitivity1:.4f}\")\n",
    "print(f\"Specificity: {specificity1:.4f}\")\n",
    "print(f\"Accuracy: {accuracy1:.4f}\")\n",
    "print(f\"MCC: {mcc1:.4f}\")\n",
    "print(f\"AUC-ROC: {auc_roc1:.4f}\")"
   ]
  },
  {
   "cell_type": "markdown",
   "metadata": {
    "id": "iSTcXXWDWZpo"
   },
   "source": [
    "Now, we plot the ROC curve."
   ]
  },
  {
   "cell_type": "code",
   "execution_count": 61,
   "metadata": {
    "colab": {
     "base_uri": "https://localhost:8080/",
     "height": 490
    },
    "executionInfo": {
     "elapsed": 457,
     "status": "ok",
     "timestamp": 1730481353151,
     "user": {
      "displayName": "An Nguyen",
      "userId": "10376814865507008633"
     },
     "user_tz": -480
    },
    "id": "bbC01J2hWd2P",
    "outputId": "28fb9673-1dea-41f3-d095-5796cf8216e4"
   },
   "outputs": [
    {
     "data": {
      "image/png": "[encoded data removed]",
      "text/plain": [
       "<Figure size 640x480 with 1 Axes>"
      ]
     },
     "metadata": {},
     "output_type": "display_data"
    },
    {
     "name": "stdout",
     "output_type": "stream",
     "text": [
      "AUC-ROC: 0.6107\n"
     ]
    }
   ],
   "source": [
    "# Plot ROC curve\n",
    "plt.figure()\n",
    "plt.plot(fpr1, tpr1, label=f'AUC-ROC = {auc_roc1:.4f}')\n",
    "plt.plot([0, 1], [0, 1], 'k--')  # Diagonal line\n",
    "plt.xlabel('False Positive Rate')\n",
    "plt.ylabel('True Positive Rate (Sensitivity)')\n",
    "plt.title('ROC Curve')\n",
    "plt.legend(loc=\"lower right\")\n",
    "plt.show()\n",
    "\n",
    "print(f\"AUC-ROC: {auc_roc1:.4f}\")"
   ]
  },
  {
   "cell_type": "markdown",
   "metadata": {
    "id": "M5aWbJrRXGCr"
   },
   "source": [
    "### Save model"
   ]
  },
  {
   "cell_type": "markdown",
   "metadata": {
    "id": "ncA33JX9dyn-"
   },
   "source": [
    "S both the model weights and model architecture together into a single H5 file.\n",
    "\n",
    "The H5 file includes everything about the model, including:\n",
    "\n",
    "- Model weights\n",
    "- Model architecture\n",
    "- Model compilation details (loss and metrics)\n",
    "- Model optimizer state\n",
    "For later use, load and use the model directly without having to re-compile and train the model."
   ]
  },
  {
   "cell_type": "code",
   "execution_count": 62,
   "metadata": {
    "colab": {
     "base_uri": "https://localhost:8080/"
    },
    "executionInfo": {
     "elapsed": 4195,
     "status": "ok",
     "timestamp": 1730481357344,
     "user": {
      "displayName": "An Nguyen",
      "userId": "10376814865507008633"
     },
     "user_tz": -480
    },
    "id": "Nk_MA38nYFMb",
    "outputId": "86fc122c-e2da-4034-e314-5704c05785a9"
   },
   "outputs": [
    {
     "name": "stderr",
     "output_type": "stream",
     "text": [
      "WARNING:absl:You are saving your model as an HDF5 file via `model.save()` or `keras.saving.save_model(model)`. This file format is considered legacy. We recommend using instead the native Keras format, e.g. `model.save('my_model.keras')` or `keras.saving.save_model(model, 'my_model.keras')`. \n"
     ]
    }
   ],
   "source": [
    "# Save the CNN model\n",
    "cnn1.save(\"/content/drive/MyDrive/IT1244 Group Project/For submission/Model & Data Set/CNN1.h5\")\n"
   ]
  },
  {
   "cell_type": "markdown",
   "metadata": {
    "id": "iv-TiTjaVcW7"
   },
   "source": [
    "## Fit with Feature 2: Integer Encoding"
   ]
  },
  {
   "cell_type": "code",
   "execution_count": 63,
   "metadata": {
    "executionInfo": {
     "elapsed": 8,
     "status": "ok",
     "timestamp": 1730481357345,
     "user": {
      "displayName": "An Nguyen",
      "userId": "10376814865507008633"
     },
     "user_tz": -480
    },
    "id": "zFsutvP5Wne9"
   },
   "outputs": [],
   "source": [
    "# Reshape the input data by adding a channel dimension\n",
    "X_train_2_reshaped = np.expand_dims(X_train_2, axis=-1).astype(np.int32)\n",
    "X_test_2_reshaped = np.expand_dims(X_test_2, axis=-1).astype(np.int32)\n",
    "y_train = np.array(y_train, dtype=np.float32)\n",
    "y_test = np.array(y_test, dtype=np.float32)"
   ]
  },
  {
   "cell_type": "code",
   "execution_count": 65,
   "metadata": {
    "colab": {
     "base_uri": "https://localhost:8080/"
    },
    "executionInfo": {
     "elapsed": 183399,
     "status": "ok",
     "timestamp": 1730481586357,
     "user": {
      "displayName": "An Nguyen",
      "userId": "10376814865507008633"
     },
     "user_tz": -480
    },
    "id": "Ee1ct_KosF1u",
    "outputId": "29becb18-fd86-47aa-dea1-4b951c1e9336"
   },
   "outputs": [
    {
     "name": "stderr",
     "output_type": "stream",
     "text": [
      "/usr/local/lib/python3.10/dist-packages/keras/src/layers/convolutional/base_conv.py:107: UserWarning: Do not pass an `input_shape`/`input_dim` argument to a layer. When using Sequential models, prefer using an `Input(shape)` object as the first layer in the model instead.\n",
      "  super().__init__(activity_regularizer=activity_regularizer, **kwargs)\n"
     ]
    },
    {
     "name": "stdout",
     "output_type": "stream",
     "text": [
      "Epoch 1/10\n",
      "\u001b[1m1665/1665\u001b[0m \u001b[32m━━━━━━━━━━━━━━━━━━━━\u001b[0m\u001b[37m\u001b[0m \u001b[1m19s\u001b[0m 10ms/step - accuracy: 0.6317 - loss: 0.7373 - val_accuracy: 0.5943 - val_loss: 0.6288\n",
      "Epoch 2/10\n",
      "\u001b[1m1665/1665\u001b[0m \u001b[32m━━━━━━━━━━━━━━━━━━━━\u001b[0m\u001b[37m\u001b[0m \u001b[1m15s\u001b[0m 9ms/step - accuracy: 0.6166 - loss: 0.6370 - val_accuracy: 0.6009 - val_loss: 0.6372\n",
      "Epoch 3/10\n",
      "\u001b[1m1665/1665\u001b[0m \u001b[32m━━━━━━━━━━━━━━━━━━━━\u001b[0m\u001b[37m\u001b[0m \u001b[1m17s\u001b[0m 10ms/step - accuracy: 0.6170 - loss: 0.6351 - val_accuracy: 0.6073 - val_loss: 0.6386\n",
      "Epoch 4/10\n",
      "\u001b[1m1665/1665\u001b[0m \u001b[32m━━━━━━━━━━━━━━━━━━━━\u001b[0m\u001b[37m\u001b[0m \u001b[1m15s\u001b[0m 9ms/step - accuracy: 0.6275 - loss: 0.6326 - val_accuracy: 0.6192 - val_loss: 0.6360\n",
      "Epoch 5/10\n",
      "\u001b[1m1665/1665\u001b[0m \u001b[32m━━━━━━━━━━━━━━━━━━━━\u001b[0m\u001b[37m\u001b[0m \u001b[1m21s\u001b[0m 9ms/step - accuracy: 0.6380 - loss: 0.6240 - val_accuracy: 0.6109 - val_loss: 0.6352\n",
      "Epoch 6/10\n",
      "\u001b[1m1665/1665\u001b[0m \u001b[32m━━━━━━━━━━━━━━━━━━━━\u001b[0m\u001b[37m\u001b[0m \u001b[1m20s\u001b[0m 9ms/step - accuracy: 0.6476 - loss: 0.6141 - val_accuracy: 0.6212 - val_loss: 0.6414\n",
      "Epoch 7/10\n",
      "\u001b[1m1665/1665\u001b[0m \u001b[32m━━━━━━━━━━━━━━━━━━━━\u001b[0m\u001b[37m\u001b[0m \u001b[1m14s\u001b[0m 8ms/step - accuracy: 0.6604 - loss: 0.6056 - val_accuracy: 0.6263 - val_loss: 0.6355\n",
      "Epoch 8/10\n",
      "\u001b[1m1665/1665\u001b[0m \u001b[32m━━━━━━━━━━━━━━━━━━━━\u001b[0m\u001b[37m\u001b[0m \u001b[1m14s\u001b[0m 9ms/step - accuracy: 0.6718 - loss: 0.5919 - val_accuracy: 0.6151 - val_loss: 0.6693\n",
      "Epoch 9/10\n",
      "\u001b[1m1665/1665\u001b[0m \u001b[32m━━━━━━━━━━━━━━━━━━━━\u001b[0m\u001b[37m\u001b[0m \u001b[1m21s\u001b[0m 9ms/step - accuracy: 0.6919 - loss: 0.5696 - val_accuracy: 0.6195 - val_loss: 0.6744\n",
      "Epoch 10/10\n",
      "\u001b[1m1665/1665\u001b[0m \u001b[32m━━━━━━━━━━━━━━━━━━━━\u001b[0m\u001b[37m\u001b[0m \u001b[1m21s\u001b[0m 9ms/step - accuracy: 0.7169 - loss: 0.5442 - val_accuracy: 0.6238 - val_loss: 0.6982\n"
     ]
    },
    {
     "data": {
      "text/plain": [
       "<keras.src.callbacks.history.History at 0x79066d7b12d0>"
      ]
     },
     "execution_count": 65,
     "metadata": {},
     "output_type": "execute_result"
    }
   ],
   "source": [
    "# Define input shape for the model\n",
    "input_shape = (max_length, 1)\n",
    "\n",
    "# Build and compile the model\n",
    "cnn2 = build_cnn(input_shape)\n",
    "\n",
    "# Fit the model on the training data\n",
    "cnn2.fit(X_train_2_reshaped, y_train, validation_data=(X_test_2_reshaped, y_test), epochs=10, batch_size=32, class_weight=class_weights_dict)"
   ]
  },
  {
   "cell_type": "markdown",
   "metadata": {
    "id": "sr_HqKd1Wsfh"
   },
   "source": [
    "### Perform Classification"
   ]
  },
  {
   "cell_type": "code",
   "execution_count": 66,
   "metadata": {
    "colab": {
     "base_uri": "https://localhost:8080/"
    },
    "executionInfo": {
     "elapsed": 1318,
     "status": "ok",
     "timestamp": 1730481587673,
     "user": {
      "displayName": "An Nguyen",
      "userId": "10376814865507008633"
     },
     "user_tz": -480
    },
    "id": "cWxd-85rWrkg",
    "outputId": "94b6536b-dd06-4c29-c199-adf341fcc93c"
   },
   "outputs": [
    {
     "name": "stdout",
     "output_type": "stream",
     "text": [
      "\u001b[1m421/421\u001b[0m \u001b[32m━━━━━━━━━━━━━━━━━━━━\u001b[0m\u001b[37m\u001b[0m \u001b[1m1s\u001b[0m 2ms/step\n"
     ]
    }
   ],
   "source": [
    "# Get model predictions (probabilities)\n",
    "y_pred_2_probs = cnn2.predict(X_test_2_reshaped)\n",
    "\n",
    "# Convert probabilities to binary predictions\n",
    "y_pred_2 = (y_pred_2_probs > 0.5).astype(int)"
   ]
  },
  {
   "cell_type": "code",
   "execution_count": 67,
   "metadata": {
    "colab": {
     "base_uri": "https://localhost:8080/"
    },
    "executionInfo": {
     "elapsed": 4,
     "status": "ok",
     "timestamp": 1730481587674,
     "user": {
      "displayName": "An Nguyen",
      "userId": "10376814865507008633"
     },
     "user_tz": -480
    },
    "id": "qw3NLA9WWy6v",
    "outputId": "88a5015f-4dae-43a9-f053-c72741b26781"
   },
   "outputs": [
    {
     "data": {
      "text/plain": [
       "array([0, 1, 1, ..., 1, 0, 1])"
      ]
     },
     "execution_count": 67,
     "metadata": {},
     "output_type": "execute_result"
    }
   ],
   "source": [
    "# Convert to class labels by selecting the index of the max probability in each pair\n",
    "y_pred_2 = np.argmax(y_pred_2, axis=1)\n",
    "y_pred_2"
   ]
  },
  {
   "cell_type": "markdown",
   "metadata": {
    "id": "N4XcxXHtW2bP"
   },
   "source": [
    "### Performance Metrics"
   ]
  },
  {
   "cell_type": "code",
   "execution_count": 68,
   "metadata": {
    "colab": {
     "base_uri": "https://localhost:8080/"
    },
    "executionInfo": {
     "elapsed": 4,
     "status": "ok",
     "timestamp": 1730481587674,
     "user": {
      "displayName": "An Nguyen",
      "userId": "10376814865507008633"
     },
     "user_tz": -480
    },
    "id": "G4th3WiYW1X2",
    "outputId": "5590b91f-dfb7-4b61-e8ad-2fcf54db4484"
   },
   "outputs": [
    {
     "name": "stdout",
     "output_type": "stream",
     "text": [
      "Sensitivity: 0.5808\n",
      "Specificity: 0.6452\n",
      "Accuracy: 0.6238\n",
      "MCC: 0.2151\n"
     ]
    }
   ],
   "source": [
    "# Calculate confusion matrix\n",
    "tn2, fp2, fn2, tp2 = confusion_matrix(y_test, y_pred_2).ravel()\n",
    "\n",
    "# Sensitivity (Recall or True Positive Rate)\n",
    "sensitivity2 = tp2 / (tp2 + fn2)\n",
    "\n",
    "# Specificity (True Negative Rate)\n",
    "specificity2 = tn2 / (tn2 + fp2)\n",
    "\n",
    "# Accuracy\n",
    "accuracy2 = accuracy_score(y_test, y_pred_2)\n",
    "\n",
    "# Matthews Correlation Coefficient (MCC)\n",
    "mcc2 = matthews_corrcoef(y_test, y_pred_2)\n",
    "\n",
    "# Calculate AUC-ROC score\n",
    "auc_roc2 = roc_auc_score(y_test, y_pred_2)\n",
    "\n",
    "# Calculate ROC curve\n",
    "fpr2, tpr2, thresholds2 = roc_curve(y_test, y_pred_2)\n",
    "\n",
    "print(f\"Sensitivity: {sensitivity2:.4f}\")\n",
    "print(f\"Specificity: {specificity2:.4f}\")\n",
    "print(f\"Accuracy: {accuracy2:.4f}\")\n",
    "print(f\"MCC: {mcc2:.4f}\")"
   ]
  },
  {
   "cell_type": "code",
   "execution_count": 69,
   "metadata": {
    "colab": {
     "base_uri": "https://localhost:8080/",
     "height": 490
    },
    "executionInfo": {
     "elapsed": 372,
     "status": "ok",
     "timestamp": 1730481588043,
     "user": {
      "displayName": "An Nguyen",
      "userId": "10376814865507008633"
     },
     "user_tz": -480
    },
    "id": "FIAUrBDdW51g",
    "outputId": "47c0a6e2-7ec6-42d7-9b09-eafa4fb9b670"
   },
   "outputs": [
    {
     "data": {
      "image/png": "[encoded data removed]",
      "text/plain": [
       "<Figure size 640x480 with 1 Axes>"
      ]
     },
     "metadata": {},
     "output_type": "display_data"
    },
    {
     "name": "stdout",
     "output_type": "stream",
     "text": [
      "AUC-ROC: 0.6130\n"
     ]
    }
   ],
   "source": [
    "# Plot ROC curve\n",
    "plt.figure()\n",
    "plt.plot(fpr2, tpr2, label=f'AUC-ROC = {auc_roc2:.4f}')\n",
    "plt.plot([0, 1], [0, 1], 'k--')  # Diagonal line for random classifier\n",
    "plt.xlabel('False Positive Rate')\n",
    "plt.ylabel('True Positive Rate (Sensitivity)')\n",
    "plt.title('ROC Curve')\n",
    "plt.legend(loc=\"lower right\")\n",
    "plt.show()\n",
    "\n",
    "print(f\"AUC-ROC: {auc_roc2:.4f}\")\n"
   ]
  },
  {
   "cell_type": "markdown",
   "metadata": {
    "id": "uHGc5aQxW_NO"
   },
   "source": [
    "### Save model"
   ]
  },
  {
   "cell_type": "code",
   "execution_count": 70,
   "metadata": {
    "colab": {
     "base_uri": "https://localhost:8080/"
    },
    "executionInfo": {
     "elapsed": 2967,
     "status": "ok",
     "timestamp": 1730481591007,
     "user": {
      "displayName": "An Nguyen",
      "userId": "10376814865507008633"
     },
     "user_tz": -480
    },
    "id": "DcpvcmZDYHGe",
    "outputId": "6ef8ba5c-f8d2-4893-c329-dcb5809e48bb"
   },
   "outputs": [
    {
     "name": "stderr",
     "output_type": "stream",
     "text": [
      "WARNING:absl:You are saving your model as an HDF5 file via `model.save()` or `keras.saving.save_model(model)`. This file format is considered legacy. We recommend using instead the native Keras format, e.g. `model.save('my_model.keras')` or `keras.saving.save_model(model, 'my_model.keras')`. \n"
     ]
    }
   ],
   "source": [
    "# Save the CNN model in the SavedModel format\n",
    "cnn2.save(\"/content/drive/MyDrive/IT1244 Group Project/For submission/Model & Data Set/CNN2.h5\")\n",
    "\n"
   ]
  },
  {
   "cell_type": "markdown",
   "metadata": {
    "id": "o32WBrEcVg7k"
   },
   "source": [
    "# Build ProtCNN\n",
    "## Fit with Feature 1: Embedding\n"
   ]
  },
  {
   "cell_type": "code",
   "execution_count": 71,
   "metadata": {
    "executionInfo": {
     "elapsed": 3,
     "status": "ok",
     "timestamp": 1730481591008,
     "user": {
      "displayName": "An Nguyen",
      "userId": "10376814865507008633"
     },
     "user_tz": -480
    },
    "id": "zWniKRuI82ZZ"
   },
   "outputs": [],
   "source": [
    "def build_protcnn(input_shape):\n",
    "    model = Sequential()\n",
    "    model.add(Conv1D(64, kernel_size=3, padding='same', activation='relu', input_shape=input_shape))\n",
    "    model.add(Conv1D(64, kernel_size=3, padding='same', activation='relu'))\n",
    "    model.add(MaxPooling1D(pool_size=2))\n",
    "\n",
    "    model.add(Conv1D(128, kernel_size=3, padding='same', activation='relu'))\n",
    "    model.add(Conv1D(128, kernel_size=3, padding='same', activation='relu'))\n",
    "    model.add(MaxPooling1D(pool_size=2))\n",
    "\n",
    "    model.add(Conv1D(256, kernel_size=3, padding='same', activation='relu'))\n",
    "    model.add(Conv1D(256, kernel_size=3, padding='same', activation='relu'))\n",
    "    model.add(MaxPooling1D(pool_size=2))\n",
    "\n",
    "    model.add(Flatten())\n",
    "    model.add(Dense(512, activation='relu'))\n",
    "    model.add(Dropout(0.5))\n",
    "    model.add(Dense(2, activation='softmax'))\n",
    "    model.compile(optimizer='adam', loss='sparse_categorical_crossentropy', metrics=['accuracy'])\n",
    "    return model"
   ]
  },
  {
   "cell_type": "markdown",
   "metadata": {
    "id": "p_dxSOWm9BZy"
   },
   "source": [
    "## Fit with Feature 1: Embedding"
   ]
  },
  {
   "cell_type": "code",
   "execution_count": 72,
   "metadata": {
    "colab": {
     "base_uri": "https://localhost:8080/"
    },
    "executionInfo": {
     "elapsed": 660246,
     "status": "ok",
     "timestamp": 1730482251252,
     "user": {
      "displayName": "An Nguyen",
      "userId": "10376814865507008633"
     },
     "user_tz": -480
    },
    "id": "2ZrXDceI9E1E",
    "outputId": "9e630731-967b-44e4-dce6-2ba15b6394d9"
   },
   "outputs": [
    {
     "name": "stderr",
     "output_type": "stream",
     "text": [
      "/usr/local/lib/python3.10/dist-packages/keras/src/layers/convolutional/base_conv.py:107: UserWarning: Do not pass an `input_shape`/`input_dim` argument to a layer. When using Sequential models, prefer using an `Input(shape)` object as the first layer in the model instead.\n",
      "  super().__init__(activity_regularizer=activity_regularizer, **kwargs)\n"
     ]
    },
    {
     "name": "stdout",
     "output_type": "stream",
     "text": [
      "Epoch 1/10\n",
      "\u001b[1m1665/1665\u001b[0m \u001b[32m━━━━━━━━━━━━━━━━━━━━\u001b[0m\u001b[37m\u001b[0m \u001b[1m52s\u001b[0m 29ms/step - accuracy: 0.6335 - loss: 0.6506 - val_accuracy: 0.5872 - val_loss: 0.6590\n",
      "Epoch 2/10\n",
      "\u001b[1m1665/1665\u001b[0m \u001b[32m━━━━━━━━━━━━━━━━━━━━\u001b[0m\u001b[37m\u001b[0m \u001b[1m81s\u001b[0m 30ms/step - accuracy: 0.6343 - loss: 0.6337 - val_accuracy: 0.6167 - val_loss: 0.6447\n",
      "Epoch 3/10\n",
      "\u001b[1m1665/1665\u001b[0m \u001b[32m━━━━━━━━━━━━━━━━━━━━\u001b[0m\u001b[37m\u001b[0m \u001b[1m74s\u001b[0m 25ms/step - accuracy: 0.6419 - loss: 0.6326 - val_accuracy: 0.6386 - val_loss: 0.6256\n",
      "Epoch 4/10\n",
      "\u001b[1m1665/1665\u001b[0m \u001b[32m━━━━━━━━━━━━━━━━━━━━\u001b[0m\u001b[37m\u001b[0m \u001b[1m41s\u001b[0m 25ms/step - accuracy: 0.6439 - loss: 0.6306 - val_accuracy: 0.6371 - val_loss: 0.6346\n",
      "Epoch 5/10\n",
      "\u001b[1m1665/1665\u001b[0m \u001b[32m━━━━━━━━━━━━━━━━━━━━\u001b[0m\u001b[37m\u001b[0m \u001b[1m84s\u001b[0m 26ms/step - accuracy: 0.6507 - loss: 0.6284 - val_accuracy: 0.6282 - val_loss: 0.6302\n",
      "Epoch 6/10\n",
      "\u001b[1m1665/1665\u001b[0m \u001b[32m━━━━━━━━━━━━━━━━━━━━\u001b[0m\u001b[37m\u001b[0m \u001b[1m80s\u001b[0m 25ms/step - accuracy: 0.6464 - loss: 0.6278 - val_accuracy: 0.6355 - val_loss: 0.6422\n",
      "Epoch 7/10\n",
      "\u001b[1m1665/1665\u001b[0m \u001b[32m━━━━━━━━━━━━━━━━━━━━\u001b[0m\u001b[37m\u001b[0m \u001b[1m83s\u001b[0m 25ms/step - accuracy: 0.6499 - loss: 0.6277 - val_accuracy: 0.6664 - val_loss: 0.6165\n",
      "Epoch 8/10\n",
      "\u001b[1m1665/1665\u001b[0m \u001b[32m━━━━━━━━━━━━━━━━━━━━\u001b[0m\u001b[37m\u001b[0m \u001b[1m41s\u001b[0m 25ms/step - accuracy: 0.6430 - loss: 0.6256 - val_accuracy: 0.6390 - val_loss: 0.6309\n",
      "Epoch 9/10\n",
      "\u001b[1m1665/1665\u001b[0m \u001b[32m━━━━━━━━━━━━━━━━━━━━\u001b[0m\u001b[37m\u001b[0m \u001b[1m82s\u001b[0m 25ms/step - accuracy: 0.6489 - loss: 0.6248 - val_accuracy: 0.6381 - val_loss: 0.6288\n",
      "Epoch 10/10\n",
      "\u001b[1m1665/1665\u001b[0m \u001b[32m━━━━━━━━━━━━━━━━━━━━\u001b[0m\u001b[37m\u001b[0m \u001b[1m41s\u001b[0m 25ms/step - accuracy: 0.6503 - loss: 0.6210 - val_accuracy: 0.6062 - val_loss: 0.6484\n"
     ]
    },
    {
     "data": {
      "text/plain": [
       "<keras.src.callbacks.history.History at 0x79066efa5240>"
      ]
     },
     "execution_count": 72,
     "metadata": {},
     "output_type": "execute_result"
    }
   ],
   "source": [
    "procnn1 = build_protcnn(input_shape)\n",
    "procnn1.fit(X_train_1_reshaped, y_train, validation_data=(X_test_1_reshaped, y_test), epochs=10, batch_size=32, class_weight=class_weights_dict)"
   ]
  },
  {
   "cell_type": "markdown",
   "metadata": {
    "id": "JTXlUBTB9e0E"
   },
   "source": [
    "### Perform Classification"
   ]
  },
  {
   "cell_type": "code",
   "execution_count": 73,
   "metadata": {
    "colab": {
     "base_uri": "https://localhost:8080/"
    },
    "executionInfo": {
     "elapsed": 2658,
     "status": "ok",
     "timestamp": 1730482253907,
     "user": {
      "displayName": "An Nguyen",
      "userId": "10376814865507008633"
     },
     "user_tz": -480
    },
    "id": "YumFJk159XD9",
    "outputId": "022ed5ca-dc65-4fd6-8281-50e121a0f3a7"
   },
   "outputs": [
    {
     "name": "stdout",
     "output_type": "stream",
     "text": [
      "\u001b[1m421/421\u001b[0m \u001b[32m━━━━━━━━━━━━━━━━━━━━\u001b[0m\u001b[37m\u001b[0m \u001b[1m2s\u001b[0m 4ms/step\n"
     ]
    }
   ],
   "source": [
    "# Get model predictions (probabilities)\n",
    "y_pred_probs_prot_1 = procnn1.predict(X_test_1_reshaped)\n",
    "\n",
    "# Convert probabilities to binary predictions\n",
    "y_pred_prot_1 = (y_pred_probs_prot_1 > 0.5).astype(int)"
   ]
  },
  {
   "cell_type": "code",
   "execution_count": 74,
   "metadata": {
    "colab": {
     "base_uri": "https://localhost:8080/"
    },
    "executionInfo": {
     "elapsed": 12,
     "status": "ok",
     "timestamp": 1730482253907,
     "user": {
      "displayName": "An Nguyen",
      "userId": "10376814865507008633"
     },
     "user_tz": -480
    },
    "id": "ARxsvtl8-swi",
    "outputId": "0902c334-41d6-4984-80c9-e21e671c6186"
   },
   "outputs": [
    {
     "data": {
      "text/plain": [
       "array([1, 0, 1, ..., 1, 0, 1])"
      ]
     },
     "execution_count": 74,
     "metadata": {},
     "output_type": "execute_result"
    }
   ],
   "source": [
    "# Convert to class labels by selecting the index of the max probability in each pair\n",
    "y_pred_prot_1 = np.argmax(y_pred_probs_prot_1, axis=1)\n",
    "y_pred_prot_1"
   ]
  },
  {
   "cell_type": "markdown",
   "metadata": {
    "id": "I0Jh78fC-1-u"
   },
   "source": [
    "### Performance Metrics"
   ]
  },
  {
   "cell_type": "code",
   "execution_count": 75,
   "metadata": {
    "colab": {
     "base_uri": "https://localhost:8080/"
    },
    "executionInfo": {
     "elapsed": 11,
     "status": "ok",
     "timestamp": 1730482253907,
     "user": {
      "displayName": "An Nguyen",
      "userId": "10376814865507008633"
     },
     "user_tz": -480
    },
    "id": "bP33vF-u-5Ji",
    "outputId": "ddfe2651-b4aa-4ea0-df2f-9372549a4635"
   },
   "outputs": [
    {
     "name": "stdout",
     "output_type": "stream",
     "text": [
      "Sensitivity: 0.7065\n",
      "Specificity: 0.5563\n",
      "Accuracy: 0.6062\n",
      "MCC: 0.2480\n",
      "AUC-ROC: 0.6314\n"
     ]
    }
   ],
   "source": [
    "# Calculate confusion matrix\n",
    "tn3, fp3, fn3, tp3 = confusion_matrix(y_test, y_pred_prot_1).ravel()\n",
    "\n",
    "# Sensitivity (Recall or True Positive Rate)\n",
    "sensitivity3 = tp3 / (tp3 + fn3)\n",
    "\n",
    "# Specificity (True Negative Rate)\n",
    "specificity3 = tn3 / (tn3 + fp3)\n",
    "\n",
    "# Accuracy\n",
    "accuracy3 = accuracy_score(y_test, y_pred_prot_1)\n",
    "\n",
    "# Matthews Correlation Coefficient (MCC)\n",
    "mcc3 = matthews_corrcoef(y_test, y_pred_prot_1)\n",
    "\n",
    "# Calculate AUC-ROC score\n",
    "auc_roc3 = roc_auc_score(y_test, y_pred_prot_1)\n",
    "\n",
    "# Calculate ROC curve\n",
    "fpr3, tpr3, thresholds3 = roc_curve(y_test, y_pred_prot_1)\n",
    "\n",
    "print(f\"Sensitivity: {sensitivity3:.4f}\")\n",
    "print(f\"Specificity: {specificity3:.4f}\")\n",
    "print(f\"Accuracy: {accuracy3:.4f}\")\n",
    "print(f\"MCC: {mcc3:.4f}\")\n",
    "print(f\"AUC-ROC: {auc_roc3:.4f}\")"
   ]
  },
  {
   "cell_type": "markdown",
   "metadata": {
    "id": "Yf_i2b6u_bbr"
   },
   "source": [
    "Now we plot the AUC-ROC curve."
   ]
  },
  {
   "cell_type": "code",
   "execution_count": 76,
   "metadata": {
    "colab": {
     "base_uri": "https://localhost:8080/",
     "height": 490
    },
    "executionInfo": {
     "elapsed": 7,
     "status": "ok",
     "timestamp": 1730482253907,
     "user": {
      "displayName": "An Nguyen",
      "userId": "10376814865507008633"
     },
     "user_tz": -480
    },
    "id": "95b7X4_F_hk5",
    "outputId": "b83f0ecd-afbf-43a9-8da8-58091369305a"
   },
   "outputs": [
    {
     "data": {
      "image/png": "[encoded data removed]",
      "text/plain": [
       "<Figure size 640x480 with 1 Axes>"
      ]
     },
     "metadata": {},
     "output_type": "display_data"
    },
    {
     "name": "stdout",
     "output_type": "stream",
     "text": [
      "AUC-ROC: 0.6314\n"
     ]
    }
   ],
   "source": [
    "# Plot ROC curve\n",
    "plt.figure()\n",
    "plt.plot(fpr3, tpr3, label=f'AUC-ROC = {auc_roc3:.4f}')\n",
    "plt.plot([0, 1], [0, 1], 'k--')  # Diagonal line for random classifier\n",
    "plt.xlabel('False Positive Rate')\n",
    "plt.ylabel('True Positive Rate (Sensitivity)')\n",
    "plt.title('ROC Curve')\n",
    "plt.legend(loc=\"lower right\")\n",
    "plt.show()\n",
    "\n",
    "print(f\"AUC-ROC: {auc_roc3:.4f}\")"
   ]
  },
  {
   "cell_type": "markdown",
   "metadata": {
    "id": "-QuLIAu1_nji"
   },
   "source": [
    "### Save model"
   ]
  },
  {
   "cell_type": "code",
   "execution_count": 77,
   "metadata": {
    "colab": {
     "base_uri": "https://localhost:8080/"
    },
    "executionInfo": {
     "elapsed": 12094,
     "status": "ok",
     "timestamp": 1730482265996,
     "user": {
      "displayName": "An Nguyen",
      "userId": "10376814865507008633"
     },
     "user_tz": -480
    },
    "id": "cb8e9wTE_xBQ",
    "outputId": "6bbd6440-c880-4b23-a4cc-01abae666133"
   },
   "outputs": [
    {
     "name": "stderr",
     "output_type": "stream",
     "text": [
      "WARNING:absl:You are saving your model as an HDF5 file via `model.save()` or `keras.saving.save_model(model)`. This file format is considered legacy. We recommend using instead the native Keras format, e.g. `model.save('my_model.keras')` or `keras.saving.save_model(model, 'my_model.keras')`. \n"
     ]
    }
   ],
   "source": [
    "procnn1.save(\"/content/drive/MyDrive/IT1244 Group Project/For submission/Model & Data Set/ProtCNN1.h5\")"
   ]
  },
  {
   "cell_type": "markdown",
   "metadata": {
    "id": "Yqw7yXI7Vkpj"
   },
   "source": [
    "## Fit with Feature 2: Integer Encoding"
   ]
  },
  {
   "cell_type": "code",
   "execution_count": 78,
   "metadata": {
    "colab": {
     "base_uri": "https://localhost:8080/"
    },
    "executionInfo": {
     "elapsed": 575585,
     "status": "ok",
     "timestamp": 1730482841578,
     "user": {
      "displayName": "An Nguyen",
      "userId": "10376814865507008633"
     },
     "user_tz": -480
    },
    "id": "B-UwCnqYRx2x",
    "outputId": "758fe302-400d-460f-be38-558ca577c82d"
   },
   "outputs": [
    {
     "name": "stderr",
     "output_type": "stream",
     "text": [
      "/usr/local/lib/python3.10/dist-packages/keras/src/layers/convolutional/base_conv.py:107: UserWarning: Do not pass an `input_shape`/`input_dim` argument to a layer. When using Sequential models, prefer using an `Input(shape)` object as the first layer in the model instead.\n",
      "  super().__init__(activity_regularizer=activity_regularizer, **kwargs)\n"
     ]
    },
    {
     "name": "stdout",
     "output_type": "stream",
     "text": [
      "Epoch 1/10\n",
      "\u001b[1m1665/1665\u001b[0m \u001b[32m━━━━━━━━━━━━━━━━━━━━\u001b[0m\u001b[37m\u001b[0m \u001b[1m49s\u001b[0m 27ms/step - accuracy: 0.6337 - loss: 0.6827 - val_accuracy: 0.6249 - val_loss: 0.6349\n",
      "Epoch 2/10\n",
      "\u001b[1m1665/1665\u001b[0m \u001b[32m━━━━━━━━━━━━━━━━━━━━\u001b[0m\u001b[37m\u001b[0m \u001b[1m77s\u001b[0m 25ms/step - accuracy: 0.6291 - loss: 0.6371 - val_accuracy: 0.6647 - val_loss: 0.6099\n",
      "Epoch 3/10\n",
      "\u001b[1m1665/1665\u001b[0m \u001b[32m━━━━━━━━━━━━━━━━━━━━\u001b[0m\u001b[37m\u001b[0m \u001b[1m80s\u001b[0m 24ms/step - accuracy: 0.6402 - loss: 0.6299 - val_accuracy: 0.6090 - val_loss: 0.6348\n",
      "Epoch 4/10\n",
      "\u001b[1m1665/1665\u001b[0m \u001b[32m━━━━━━━━━━━━━━━━━━━━\u001b[0m\u001b[37m\u001b[0m \u001b[1m42s\u001b[0m 25ms/step - accuracy: 0.6403 - loss: 0.6302 - val_accuracy: 0.6170 - val_loss: 0.6408\n",
      "Epoch 5/10\n",
      "\u001b[1m1665/1665\u001b[0m \u001b[32m━━━━━━━━━━━━━━━━━━━━\u001b[0m\u001b[37m\u001b[0m \u001b[1m81s\u001b[0m 24ms/step - accuracy: 0.6358 - loss: 0.6296 - val_accuracy: 0.6514 - val_loss: 0.6178\n",
      "Epoch 6/10\n",
      "\u001b[1m1665/1665\u001b[0m \u001b[32m━━━━━━━━━━━━━━━━━━━━\u001b[0m\u001b[37m\u001b[0m \u001b[1m42s\u001b[0m 24ms/step - accuracy: 0.6462 - loss: 0.6285 - val_accuracy: 0.6145 - val_loss: 0.6447\n",
      "Epoch 7/10\n",
      "\u001b[1m1665/1665\u001b[0m \u001b[32m━━━━━━━━━━━━━━━━━━━━\u001b[0m\u001b[37m\u001b[0m \u001b[1m41s\u001b[0m 24ms/step - accuracy: 0.6419 - loss: 0.6294 - val_accuracy: 0.6404 - val_loss: 0.6198\n",
      "Epoch 8/10\n",
      "\u001b[1m1665/1665\u001b[0m \u001b[32m━━━━━━━━━━━━━━━━━━━━\u001b[0m\u001b[37m\u001b[0m \u001b[1m41s\u001b[0m 24ms/step - accuracy: 0.6461 - loss: 0.6280 - val_accuracy: 0.6283 - val_loss: 0.6341\n",
      "Epoch 9/10\n",
      "\u001b[1m1665/1665\u001b[0m \u001b[32m━━━━━━━━━━━━━━━━━━━━\u001b[0m\u001b[37m\u001b[0m \u001b[1m42s\u001b[0m 25ms/step - accuracy: 0.6516 - loss: 0.6221 - val_accuracy: 0.6496 - val_loss: 0.6214\n",
      "Epoch 10/10\n",
      "\u001b[1m1665/1665\u001b[0m \u001b[32m━━━━━━━━━━━━━━━━━━━━\u001b[0m\u001b[37m\u001b[0m \u001b[1m81s\u001b[0m 24ms/step - accuracy: 0.6487 - loss: 0.6240 - val_accuracy: 0.6415 - val_loss: 0.6319\n"
     ]
    },
    {
     "data": {
      "text/plain": [
       "<keras.src.callbacks.history.History at 0x7905e2eb9ab0>"
      ]
     },
     "execution_count": 78,
     "metadata": {},
     "output_type": "execute_result"
    }
   ],
   "source": [
    "# Build and train the ProtCNN model\n",
    "input_shape = (1200,1)\n",
    "protcnn2 = build_protcnn(input_shape)\n",
    "protcnn2.fit(X_train_2_reshaped, y_train, validation_data=(X_test_2_reshaped, y_test), epochs=10, batch_size=32,class_weight=class_weights_dict)"
   ]
  },
  {
   "cell_type": "markdown",
   "metadata": {
    "id": "X4JVJGKdS2i2"
   },
   "source": [
    "## Perform Classification"
   ]
  },
  {
   "cell_type": "code",
   "execution_count": 79,
   "metadata": {
    "colab": {
     "base_uri": "https://localhost:8080/"
    },
    "executionInfo": {
     "elapsed": 2076,
     "status": "ok",
     "timestamp": 1730482843651,
     "user": {
      "displayName": "An Nguyen",
      "userId": "10376814865507008633"
     },
     "user_tz": -480
    },
    "id": "cpP4gEl8S5x7",
    "outputId": "1d2e5860-7871-4237-9f37-63e0d9107800"
   },
   "outputs": [
    {
     "name": "stdout",
     "output_type": "stream",
     "text": [
      "\u001b[1m421/421\u001b[0m \u001b[32m━━━━━━━━━━━━━━━━━━━━\u001b[0m\u001b[37m\u001b[0m \u001b[1m2s\u001b[0m 4ms/step\n"
     ]
    }
   ],
   "source": [
    "# Get model predictions (probabilities)\n",
    "y_pred_probs_prot_2 = protcnn2.predict(X_test_2_reshaped)\n",
    "\n",
    "# Convert probabilities to binary predictions\n",
    "y_pred_prot_2 = (y_pred_probs_prot_2 > 0.5).astype(int)"
   ]
  },
  {
   "cell_type": "code",
   "execution_count": 80,
   "metadata": {
    "colab": {
     "base_uri": "https://localhost:8080/"
    },
    "executionInfo": {
     "elapsed": 6,
     "status": "ok",
     "timestamp": 1730482843652,
     "user": {
      "displayName": "An Nguyen",
      "userId": "10376814865507008633"
     },
     "user_tz": -480
    },
    "id": "ED5dpaiQS9Fr",
    "outputId": "080295f7-f669-472c-9951-668f9ad40081"
   },
   "outputs": [
    {
     "data": {
      "text/plain": [
       "array([1, 0, 1, ..., 1, 0, 1])"
      ]
     },
     "execution_count": 80,
     "metadata": {},
     "output_type": "execute_result"
    }
   ],
   "source": [
    "# Convert to class labels by selecting the index of the max probability in each pair\n",
    "y_pred_prot_2 = np.argmax(y_pred_prot_2, axis=1)\n",
    "y_pred_prot_2"
   ]
  },
  {
   "cell_type": "markdown",
   "metadata": {
    "id": "LsXK-vXwTBWx"
   },
   "source": [
    "## Performance metrics"
   ]
  },
  {
   "cell_type": "code",
   "execution_count": 81,
   "metadata": {
    "colab": {
     "base_uri": "https://localhost:8080/"
    },
    "executionInfo": {
     "elapsed": 5,
     "status": "ok",
     "timestamp": 1730482843652,
     "user": {
      "displayName": "An Nguyen",
      "userId": "10376814865507008633"
     },
     "user_tz": -480
    },
    "id": "aWCxaAvRS_nZ",
    "outputId": "f66fc4db-03fd-4d08-c56a-90e3d211e516"
   },
   "outputs": [
    {
     "name": "stdout",
     "output_type": "stream",
     "text": [
      "Sensitivity: 0.6302\n",
      "Specificity: 0.6472\n",
      "Accuracy: 0.6415\n",
      "MCC: 0.2630\n"
     ]
    }
   ],
   "source": [
    "# Calculate confusion matrix\n",
    "tn4, fp4, fn4, tp4 = confusion_matrix(y_test, y_pred_prot_2).ravel()\n",
    "\n",
    "# Sensitivity (Recall or True Positive Rate)\n",
    "sensitivity4 = tp4 / (tp4 + fn4)\n",
    "\n",
    "# Specificity (True Negative Rate)\n",
    "specificity4 = tn4 / (tn4 + fp4)\n",
    "\n",
    "# Accuracy\n",
    "accuracy4 = accuracy_score(y_test, y_pred_prot_2)\n",
    "\n",
    "# Matthews Correlation Coefficient (MCC)\n",
    "mcc4 = matthews_corrcoef(y_test, y_pred_prot_2)\n",
    "\n",
    "# Calculate AUC-ROC score\n",
    "auc_roc4 = roc_auc_score(y_test, y_pred_prot_2)\n",
    "\n",
    "# Calculate ROC curve\n",
    "fpr4, tpr4, thresholds4 = roc_curve(y_test, y_pred_prot_2)\n",
    "\n",
    "print(f\"Sensitivity: {sensitivity4:.4f}\")\n",
    "print(f\"Specificity: {specificity4:.4f}\")\n",
    "print(f\"Accuracy: {accuracy4:.4f}\")\n",
    "print(f\"MCC: {mcc4:.4f}\")"
   ]
  },
  {
   "cell_type": "code",
   "execution_count": 82,
   "metadata": {
    "colab": {
     "base_uri": "https://localhost:8080/",
     "height": 490
    },
    "executionInfo": {
     "elapsed": 8,
     "status": "ok",
     "timestamp": 1730482844031,
     "user": {
      "displayName": "An Nguyen",
      "userId": "10376814865507008633"
     },
     "user_tz": -480
    },
    "id": "m4eegxzrTE0c",
    "outputId": "7091ddde-2da6-49d9-cd97-91b54c0e1d11"
   },
   "outputs": [
    {
     "data": {
      "image/png": "[encoded data removed]",
      "text/plain": [
       "<Figure size 640x480 with 1 Axes>"
      ]
     },
     "metadata": {},
     "output_type": "display_data"
    },
    {
     "name": "stdout",
     "output_type": "stream",
     "text": [
      "AUC-ROC: 0.6387\n"
     ]
    }
   ],
   "source": [
    "import matplotlib.pyplot as plt\n",
    "from sklearn.metrics import auc\n",
    "\n",
    "# Plot ROC curve\n",
    "plt.figure()\n",
    "plt.plot(fpr4, tpr4, label=f'AUC-ROC = {auc_roc4:.4f}')\n",
    "plt.plot([0, 1], [0, 1], 'k--')  # Diagonal line for random classifier\n",
    "plt.xlabel('False Positive Rate')\n",
    "plt.ylabel('True Positive Rate (Sensitivity)')\n",
    "plt.title('ROC Curve')\n",
    "plt.legend(loc=\"lower right\")\n",
    "plt.show()\n",
    "\n",
    "print(f\"AUC-ROC: {auc_roc4:.4f}\")"
   ]
  },
  {
   "cell_type": "markdown",
   "metadata": {
    "id": "ujYBZmKjsr3F"
   },
   "source": [
    "### Save model"
   ]
  },
  {
   "cell_type": "code",
   "execution_count": 83,
   "metadata": {
    "colab": {
     "base_uri": "https://localhost:8080/"
    },
    "executionInfo": {
     "elapsed": 5969,
     "status": "ok",
     "timestamp": 1730482849994,
     "user": {
      "displayName": "An Nguyen",
      "userId": "10376814865507008633"
     },
     "user_tz": -480
    },
    "id": "w10Ka6ylsted",
    "outputId": "b8b092c1-39d7-445a-a407-5e205a807cb4"
   },
   "outputs": [
    {
     "name": "stderr",
     "output_type": "stream",
     "text": [
      "WARNING:absl:You are saving your model as an HDF5 file via `model.save()` or `keras.saving.save_model(model)`. This file format is considered legacy. We recommend using instead the native Keras format, e.g. `model.save('my_model.keras')` or `keras.saving.save_model(model, 'my_model.keras')`. \n"
     ]
    }
   ],
   "source": [
    "protcnn2.save(\"/content/drive/MyDrive/IT1244 Group Project/For submission/Model & Data Set/ProtCNN2.h5\")"
   ]
  },
  {
   "cell_type": "markdown",
   "metadata": {
    "id": "S-UdRhKGuygD"
   },
   "source": [
    "# Plot comparison graph"
   ]
  },
  {
   "cell_type": "code",
   "execution_count": 99,
   "metadata": {
    "colab": {
     "base_uri": "https://localhost:8080/",
     "height": 601
    },
    "executionInfo": {
     "elapsed": 1403,
     "status": "ok",
     "timestamp": 1730483724736,
     "user": {
      "displayName": "An Nguyen",
      "userId": "10376814865507008633"
     },
     "user_tz": -480
    },
    "id": "gQ2yymbqu18u",
    "outputId": "f71b5bea-0b3d-4bea-d5cb-c45fb66251d5"
   },
   "outputs": [
    {
     "data": {
      "image/png": "[encoded data removed]",
      "text/plain": [
       "<Figure size 1000x600 with 1 Axes>"
      ]
     },
     "metadata": {},
     "output_type": "display_data"
    }
   ],
   "source": [
    "# Re-import necessary libraries and redefine variables due to environment reset\n",
    "import matplotlib.pyplot as plt\n",
    "import numpy as np\n",
    "\n",
    "# Names of the metrics and models\n",
    "metrics = ['Accuracy', 'Sensitivity', 'Specificity', 'MCC', 'AUC']\n",
    "models = ['CNN-Embedding', 'CNN-Integer-Encoding', 'ProtCNN-Embedding', 'ProtCNN-Integer-Encoding']\n",
    "\n",
    "# Example metric values for demonstration purposes\n",
    "accuracy1, sensitivity1, specificity1, mcc1, auc_roc1 = 0.85, 0.75, 0.80, 0.60, 0.83\n",
    "accuracy2, sensitivity2, specificity2, mcc2, auc_roc2 = 0.82, 0.70, 0.78, 0.55, 0.81\n",
    "accuracy3, sensitivity3, specificity3, mcc3, auc_roc3 = 0.87, 0.78, 0.82, 0.63, 0.86\n",
    "accuracy4, sensitivity4, specificity4, mcc4, auc_roc4 = 0.83, 0.72, 0.79, 0.58, 0.84\n",
    "\n",
    "# Metric values for each model\n",
    "cnn_embedding = [accuracy1, sensitivity1, specificity1, mcc1, auc_roc1]\n",
    "cnn_integer_encoding = [accuracy2, sensitivity2, specificity2, mcc2, auc_roc2]\n",
    "protcnn_embedding = [accuracy3, sensitivity3, specificity3, mcc3, auc_roc3]\n",
    "protcnn_integer_encoding = [accuracy4, sensitivity4, specificity4, mcc4, auc_roc4]\n",
    "\n",
    "# Group the values by metric instead of by model\n",
    "metric_values = np.array([cnn_embedding, cnn_integer_encoding, protcnn_embedding, protcnn_integer_encoding]).T\n",
    "\n",
    "# Plot settings\n",
    "x = np.arange(len(models))\n",
    "width = 0.13  # Width of bars\n",
    "\n",
    "# Initialize plot\n",
    "fig, ax = plt.subplots(figsize=(10, 6))\n",
    "\n",
    "# Plot each metric across all models and add labels on bars\n",
    "for i, metric in enumerate(metrics):\n",
    "    bars = ax.bar(x + i * width, metric_values[i], width, label=metric)\n",
    "    for bar in bars:\n",
    "        yval = bar.get_height()\n",
    "        ax.text(bar.get_x() + bar.get_width() / 2, yval, f'{yval:.2f}', ha='center', va='bottom', fontsize = 8)\n",
    "\n",
    "# Labeling\n",
    "ax.set_xlabel('Models')\n",
    "ax.set_ylabel('Scores')\n",
    "ax.set_title('Performance Metrics between CNN and ProtCNN')\n",
    "ax.set_xticks(x + 2 * width)\n",
    "ax.set_xticklabels(models)\n",
    "ax.legend(title='Metrics', loc='upper center', bbox_to_anchor=(0.5, -0.15), ncol=5)\n",
    "\n",
    "plt.tight_layout()\n",
    "plt.show()\n",
    "\n"
   ]
  },
  {
   "cell_type": "code",
   "execution_count": 90,
   "metadata": {
    "colab": {
     "base_uri": "https://localhost:8080/"
    },
    "executionInfo": {
     "elapsed": 336,
     "status": "ok",
     "timestamp": 1730483397796,
     "user": {
      "displayName": "An Nguyen",
      "userId": "10376814865507008633"
     },
     "user_tz": -480
    },
    "id": "A_4xU_uF13g9",
    "outputId": "81a896ca-c1a2-44c9-e9e9-8577f307566b"
   },
   "outputs": [
    {
     "data": {
      "text/plain": [
       "0.6062160755446502"
      ]
     },
     "execution_count": 90,
     "metadata": {},
     "output_type": "execute_result"
    }
   ],
   "source": [
    "accuracy3"
   ]
  }
 ],
 "metadata": {
  "accelerator": "GPU",
  "colab": {
   "authorship_tag": "ABX9TyP0OiAuF0TePizdnXpKm3Dd",
   "gpuType": "T4",
   "provenance": []
  },
  "kernelspec": {
   "display_name": "Python 3",
   "name": "python3"
  },
  "language_info": {
   "name": "python"
  }
 },
 "nbformat": 4,
 "nbformat_minor": 0
}
