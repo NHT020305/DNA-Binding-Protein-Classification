{
 "cells": [
  {
   "cell_type": "code",
   "execution_count": null,
   "id": "5b45ca44",
   "metadata": {},
   "outputs": [],
   "source": [
    "from Bio import SeqIO\n",
    "from Bio.Seq import Seq\n",
    "from Bio.Align.Applications import MafftCommandline\n",
    "from Bio import AlignIO\n",
    "from Bio.motifs import Motif\n",
    "from Bio.Align import AlignInfo\n",
    "from Bio.SeqRecord import SeqRecord\n",
    "from Bio.Align import MultipleSeqAlignment\n",
    "import os\n",
    "from Bio import motifs\n",
    "import pandas as pd\n",
    "import numpy as np\n",
    "import matplotlib.pyplot as plt\n",
    "from sklearn.feature_extraction.text import CountVectorizer"
   ]
  },
  {
   "cell_type": "code",
   "execution_count": null,
   "id": "ceb44f5d",
   "metadata": {},
   "outputs": [],
   "source": [
    "train_data_path = os.path.join('..', 'Data', 'Train.fasta')\n",
    "test_data_path = os.path.join('..', 'Data', 'Test.fasta')\n",
    "train_label_0 = os.path.join('..', 'Data', 'Train_label_0.fasta')\n",
    "train_label_1 = os.path.join('..', 'Data', 'Train_label_1.fasta')"
   ]
  },
  {
   "cell_type": "markdown",
   "id": "69882242",
   "metadata": {},
   "source": [
    "# Load data"
   ]
  },
  {
   "cell_type": "code",
   "execution_count": null,
   "id": "10407f1b",
   "metadata": {},
   "outputs": [],
   "source": [
    "# Output FASTA file that will contain only sequences with label 1\n",
    "output1_fasta = train_label_1\n",
    "\n",
    "# Parse the input FASTA file\n",
    "sequences = SeqIO.parse(train_data_path, \"fasta\")\n",
    "\n",
    "# Filter sequences based on label in the ID\n",
    "sequences_1 = (seq for seq in sequences if seq.id.endswith('_label_1'))\n",
    "\n",
    "# Write the filtered sequences to the output FASTA file\n",
    "with open(output1_fasta, \"w\") as output_handle:\n",
    "    SeqIO.write(sequences_1, output_handle, \"fasta\")\n"
   ]
  },
  {
   "cell_type": "code",
   "execution_count": null,
   "id": "2e5c384a",
   "metadata": {},
   "outputs": [],
   "source": [
    "# Output FASTA file that will contain only sequences with label 1\n",
    "output0_fasta = train_label_0\n",
    "\n",
    "# Parse the input FASTA file\n",
    "sequences = SeqIO.parse(train_data_path, \"fasta\")\n",
    "\n",
    "# Filter sequences based on label in the ID\n",
    "sequences_0 = (seq for seq in sequences if seq.id.endswith('_label_0'))\n",
    "\n",
    "# Write the filtered sequences to the output FASTA file\n",
    "with open(output0_fasta, \"w\") as output_handle:\n",
    "    SeqIO.write(sequences_0, output_handle, \"fasta\")"
   ]
  },
  {
   "cell_type": "markdown",
   "id": "a263dfed",
   "metadata": {},
   "source": [
    "# Visualise the distributions of lengths of label 1 & 0 sequences"
   ]
  },
  {
   "cell_type": "code",
   "execution_count": null,
   "id": "198bc4e0",
   "metadata": {},
   "outputs": [],
   "source": [
    "sequence1_lengths = [len(record.seq) for record in SeqIO.parse(train_label_1, \"fasta\")]"
   ]
  },
  {
   "cell_type": "code",
   "execution_count": null,
   "id": "10d20b25",
   "metadata": {},
   "outputs": [],
   "source": [
    "sequence0_lengths = [len(record.seq) for record in SeqIO.parse(train_label_0, \"fasta\")]"
   ]
  },
  {
   "cell_type": "code",
   "execution_count": null,
   "id": "266c9d4f",
   "metadata": {},
   "outputs": [],
   "source": [
    "# Create a function to plot the distribution as a line plot\n",
    "def plot_length_distribution(lengths, label, color):\n",
    "    counts, bin_edges = np.histogram(lengths, bins=30, density=True)\n",
    "    bin_centers = (bin_edges[:-1] + bin_edges[1:]) / 2\n",
    "    plt.plot(bin_centers, counts, label=label, color=color)\n",
    "\n",
    "# Plot line distributions for both labels\n",
    "plot_length_distribution(sequence0_lengths, 'Label 0', 'blue')\n",
    "plot_length_distribution(sequence1_lengths, 'Label 1', 'green')\n",
    "\n",
    "# Add titles and labels\n",
    "plt.title('Distribution of Sequence Lengths for Label 0 and Label 1')\n",
    "plt.xlabel('Sequence Length')\n",
    "plt.ylabel('Density')\n",
    "\n",
    "# Add legend to differentiate between the two labels\n",
    "plt.legend()\n",
    "\n",
    "# Show the plot\n",
    "plt.show()"
   ]
  },
  {
   "cell_type": "markdown",
   "id": "6ac37985",
   "metadata": {},
   "source": [
    "# Perform Multiple Sequence Alignment"
   ]
  },
  {
   "cell_type": "markdown",
   "id": "4dfd2eb8",
   "metadata": {},
   "source": [
    "## For Class 1"
   ]
  },
  {
   "cell_type": "code",
   "execution_count": null,
   "id": "7355a0e2",
   "metadata": {},
   "outputs": [],
   "source": [
    "from Bio.Align.Applications import MafftCommandline\n",
    "from Bio import AlignIO\n",
    "from Bio.Align import AlignInfo\n",
    "from sklearn.metrics import confusion_matrix\n",
    "from sklearn.metrics import matthews_corrcoef, roc_auc_score"
   ]
  },
  {
   "cell_type": "code",
   "execution_count": null,
   "id": "d07f05f6",
   "metadata": {},
   "outputs": [],
   "source": [
    "# # Define the path to your fasta file\n",
    "# fasta_file = \"Train_label_1.fasta\"\n",
    "\n",
    "# # Run MAFFT to perform the MSA\n",
    "# mafft_cline = MafftCommandline(input=fasta_file)\n",
    "# stdout, stderr = mafft_cline()"
   ]
  },
  {
   "cell_type": "code",
   "execution_count": null,
   "id": "eee2dcf4",
   "metadata": {},
   "outputs": [],
   "source": [
    "# # Save the alignment to a file\n",
    "# with open(\"train_label_1_aligned.fasta\", \"w\") as aligned_file:\n",
    "#     aligned_file.write(stdout)\n",
    "\n",
    "# # Read the aligned sequences\n",
    "# alignment = AlignIO.read(\"train_label_1_aligned.fasta\", \"fasta\")\n"
   ]
  },
  {
   "cell_type": "markdown",
   "id": "aaf5e1cd",
   "metadata": {},
   "source": [
    "## For Class 0"
   ]
  },
  {
   "cell_type": "code",
   "execution_count": null,
   "id": "242219d4",
   "metadata": {},
   "outputs": [],
   "source": [
    "# # Define the path to your fasta file\n",
    "# fasta_file = \"Train_label_0.fasta\"\n",
    "\n",
    "# # Run MAFFT to perform the MSA\n",
    "# mafft_cline = MafftCommandline(input=fasta_file, auto = True)\n",
    "# stdout, stderr = mafft_cline()"
   ]
  },
  {
   "cell_type": "code",
   "execution_count": null,
   "id": "da2792eb",
   "metadata": {},
   "outputs": [],
   "source": [
    "# # Save the alignment to a file\n",
    "# with open(\"train_label_0_aligned.fasta\", \"w\") as aligned_file:\n",
    "#     aligned_file.write(stdout)\n",
    "\n",
    "# # Read the aligned sequences\n",
    "# alignment = AlignIO.read(\"train_label_1_aligned.fasta\", \"fasta\")"
   ]
  },
  {
   "cell_type": "code",
   "execution_count": null,
   "id": "8618b6cd",
   "metadata": {},
   "outputs": [],
   "source": [
    "# # Create summary information for the alignment\n",
    "# summary_align = AlignInfo.SummaryInfo(alignment)\n",
    "\n",
    "# # Generate the Position-Specific Scoring Matrix (PSSM)\n",
    "# pssm = summary_align.pos_specific_score_matrix()\n"
   ]
  },
  {
   "cell_type": "code",
   "execution_count": null,
   "id": "8eec1bd8",
   "metadata": {},
   "outputs": [],
   "source": [
    "# # Load your alignment using AlignIO\n",
    "# alignment = AlignIO.read(\"train_label_1_aligned.fasta\", \"fasta\")  # Adjust the file format as needed\n",
    "\n",
    "# # Extract sequences from alignment to create a motif\n",
    "# sequences = [str(record.seq) for record in alignment]\n",
    "\n",
    "# # Create a motif from the list of sequences (no need for the alphabet argument)\n",
    "# motif = motifs.create(sequences)\n",
    "\n",
    "# # Get the position-specific scoring matrix (PSSM)\n",
    "# counts = motif.counts\n",
    "\n",
    "# # Optionally calculate the consensus from the counts\n",
    "# consensus = motif.consensus"
   ]
  },
  {
   "cell_type": "code",
   "execution_count": null,
   "id": "9bc19c3f",
   "metadata": {},
   "outputs": [],
   "source": [
    "def calculate_pssm(alignment_file):\n",
    "    # Load the alignment file\n",
    "    alignment = AlignIO.read(alignment_file, \"fasta\")\n",
    "    \n",
    "    # Extract sequences from alignment\n",
    "    sequences = [str(record.seq) for record in alignment]\n",
    "    \n",
    "    # Create a motif from the sequences\n",
    "    motif = motifs.create(sequences)\n",
    "    \n",
    "    # Return the Position-Specific Scoring Matrix (PSSM)\n",
    "    return motif.pssm"
   ]
  },
  {
   "cell_type": "code",
   "execution_count": null,
   "id": "0d8516f6",
   "metadata": {},
   "outputs": [],
   "source": [
    "def score_sequence_against_pssm(pssm, sequence):\n",
    "    # Convert the sequence into a motif-style sequence (as a Seq object)\n",
    "    seq = Seq(sequence)\n",
    "    \n",
    "    # Score the sequence against the PSSM\n",
    "    score = pssm.calculate(seq)\n",
    "    return score"
   ]
  },
  {
   "cell_type": "code",
   "execution_count": null,
   "id": "a75a4d22",
   "metadata": {},
   "outputs": [],
   "source": [
    "def classify_sequence(sequence, pssm_class_1, pssm_class_0):\n",
    "    # Score the sequence against both class 1 and class 0 PSSMs\n",
    "    score_class_1 = score_sequence_against_pssm(pssm_class_1, sequence)\n",
    "    score_class_0 = score_sequence_against_pssm(pssm_class_0, sequence)\n",
    "    \n",
    "    # Return the class with the higher score\n",
    "    return 1 if score_class_1 > score_class_0 else 0"
   ]
  },
  {
   "cell_type": "code",
   "execution_count": null,
   "id": "94fb7125",
   "metadata": {},
   "outputs": [],
   "source": [
    "def evaluate_model(test_file, pssm_class_1, pssm_class_0):\n",
    "    # Load the test sequences\n",
    "    test_sequences = SeqIO.parse(test_file, \"fasta\")\n",
    "    \n",
    "    true_labels = []\n",
    "    predicted_labels = []\n",
    "    \n",
    "    # Loop through each test sequence and classify it\n",
    "    for record in test_sequences:\n",
    "        sequence = str(record.seq)\n",
    "        # Here, we assume the sequence ID contains the true label (e.g., \">sequence_1\" or \">sequence_0\")\n",
    "        true_label = int(record.id.split('_')[-1])  # Adjust based on your test data format\n",
    "        true_labels.append(true_label)\n",
    "        \n",
    "        # Classify the sequence\n",
    "        predicted_label = classify_sequence(sequence, pssm_class_1, pssm_class_0)\n",
    "        predicted_labels.append(predicted_label)\n",
    "    \n",
    "    # Calculate confusion matrix and other metrics\n",
    "    tn, fp, fn, tp = confusion_matrix(true_labels, predicted_labels).ravel()\n",
    "    \n",
    "    # Calculate sensitivity, specificity, MCC, and ROC-AUC\n",
    "    sensitivity = tp / (tp + fn)\n",
    "    specificity = tn / (tn + fp)\n",
    "    mcc = matthews_corrcoef(true_labels, predicted_labels)\n",
    "    auc_roc = roc_auc_score(true_labels, predicted_labels)\n",
    "    \n",
    "    # Return all the metrics\n",
    "    return {\n",
    "        \"confusion_matrix\": (tn, fp, fn, tp),\n",
    "        \"sensitivity\": sensitivity,\n",
    "        \"specificity\": specificity,\n",
    "        \"MCC\": mcc,\n",
    "        \"AUC_ROC\": auc_roc\n",
    "    }"
   ]
  },
  {
   "cell_type": "code",
   "execution_count": null,
   "id": "4feb9cf2",
   "metadata": {},
   "outputs": [],
   "source": [
    "# Paths to your MSA files for class 1 and class 0\n",
    "alignment_class_1 = os.path.join('..', 'Data', 'aligned1.fasta')\n",
    "alignment_class_0 = os.path.join('..', 'Data', 'aligned1.fasta')\n",
    "\n",
    "# Calculate PSSMs for both classes\n",
    "pssm_class_1 = calculate_pssm(alignment_class_1)\n",
    "pssm_class_0 = calculate_pssm(alignment_class_0)\n",
    "\n",
    "# Test data file\n",
    "test_file = \"test.fasta\"\n",
    "\n",
    "# Evaluate the model\n",
    "results = evaluate_model(test_file, pssm_class_1, pssm_class_0)\n",
    "\n",
    "# Print results\n",
    "print(\"Confusion Matrix (TN, FP, FN, TP):\", results[\"confusion_matrix\"])\n",
    "print(\"Sensitivity:\", results[\"sensitivity\"])\n",
    "print(\"Specificity:\", results[\"specificity\"])\n",
    "print(\"MCC:\", results[\"MCC\"])\n",
    "print(\"AUC-ROC:\", results[\"AUC_ROC\"])"
   ]
  }
 ],
 "metadata": {
  "kernelspec": {
   "display_name": "Python 3",
   "language": "python",
   "name": "python3"
  },
  "language_info": {
   "codemirror_mode": {
    "name": "ipython",
    "version": 3
   },
   "file_extension": ".py",
   "mimetype": "text/x-python",
   "name": "python",
   "nbconvert_exporter": "python",
   "pygments_lexer": "ipython3",
   "version": "3.10.11"
  }
 },
 "nbformat": 4,
 "nbformat_minor": 5
}
