{
 "cells": [
  {
   "cell_type": "markdown",
   "metadata": {
    "id": "BonlrZOei63o"
   },
   "source": [
    "Please install those packages before running this file. If you have not done so, please uncomment the below code before running this file."
   ]
  },
  {
   "cell_type": "code",
   "execution_count": null,
   "metadata": {
    "executionInfo": {
     "elapsed": 6885,
     "status": "ok",
     "timestamp": 1730620870084,
     "user": {
      "displayName": "An Nguyen",
      "userId": "10376814865507008633"
     },
     "user_tz": -480
    },
    "id": "vYKDy7_bitPy"
   },
   "outputs": [],
   "source": [
    "#load packages\n",
    "from Bio import SeqIO\n",
    "import numpy as np\n",
    "import pandas as pd\n",
    "import matplotlib.pyplot as plt\n",
    "import seaborn as sns"
   ]
  },
  {
   "cell_type": "markdown",
   "metadata": {
    "id": "FLhHx8iziN2m"
   },
   "source": [
    "# Load datasets"
   ]
  },
  {
   "cell_type": "code",
   "execution_count": null,
   "metadata": {
    "colab": {
     "base_uri": "https://localhost:8080/"
    },
    "executionInfo": {
     "elapsed": 33756,
     "status": "ok",
     "timestamp": 1730620903833,
     "user": {
      "displayName": "An Nguyen",
      "userId": "10376814865507008633"
     },
     "user_tz": -480
    },
    "id": "wWHjI_adjeZ7",
    "outputId": "3739f2fd-0c8a-485d-c003-0ef6a7cbf2c4"
   },
   "outputs": [],
   "source": [
    "#allow Google Drive to access files\n",
    "from google.colab import drive\n",
    "drive.mount('/content/drive')"
   ]
  },
  {
   "cell_type": "code",
   "execution_count": null,
   "metadata": {
    "executionInfo": {
     "elapsed": 2,
     "status": "ok",
     "timestamp": 1730620903833,
     "user": {
      "displayName": "An Nguyen",
      "userId": "10376814865507008633"
     },
     "user_tz": -480
    },
    "id": "t4ZjCTaAjPiW"
   },
   "outputs": [],
   "source": [
    "def parse_fasta(fasta_file):\n",
    "    sequences = []\n",
    "    labels = []\n",
    "    for record in SeqIO.parse(fasta_file, \"fasta\"):\n",
    "        sequence = str(record.seq)\n",
    "        # Extract the label from the sequence ID (assuming it's at the end and separated by '_')\n",
    "        label = int(record.id.split('_')[-1])  # 0 or 1\n",
    "        sequences.append(sequence)\n",
    "        labels.append(label)\n",
    "    return sequences, labels\n"
   ]
  },
  {
   "cell_type": "code",
   "execution_count": null,
   "metadata": {
    "executionInfo": {
     "elapsed": 2,
     "status": "ok",
     "timestamp": 1730620903833,
     "user": {
      "displayName": "An Nguyen",
      "userId": "10376814865507008633"
     },
     "user_tz": -480
    },
    "id": "Q_qJS74hqJC6"
   },
   "outputs": [],
   "source": [
    "train_path = \"/content/drive/MyDrive/IT1244 Group Project/DNA Binding Protein/Train.fasta\"\n",
    "test_path =  \"/content/drive/MyDrive/IT1244 Group Project/DNA Binding Protein/Test.fasta\""
   ]
  },
  {
   "cell_type": "code",
   "execution_count": null,
   "metadata": {
    "executionInfo": {
     "elapsed": 3141,
     "status": "ok",
     "timestamp": 1730620906972,
     "user": {
      "displayName": "An Nguyen",
      "userId": "10376814865507008633"
     },
     "user_tz": -480
    },
    "id": "lfLL_v1Ij2cf"
   },
   "outputs": [],
   "source": [
    "train_sequences, train_labels = parse_fasta(train_path)\n",
    "test_sequences, test_labels = parse_fasta(train_path)"
   ]
  },
  {
   "cell_type": "markdown",
   "metadata": {
    "id": "OSiMdzCZiAl4"
   },
   "source": [
    "# Examining Class Ratio"
   ]
  },
  {
   "cell_type": "code",
   "execution_count": null,
   "metadata": {
    "colab": {
     "base_uri": "https://localhost:8080/"
    },
    "executionInfo": {
     "elapsed": 12,
     "status": "ok",
     "timestamp": 1730620906973,
     "user": {
      "displayName": "An Nguyen",
      "userId": "10376814865507008633"
     },
     "user_tz": -480
    },
    "id": "dsAPQVaAj4nH",
    "outputId": "6a1d33d9-90b1-4de4-c19c-485ecfec1d79"
   },
   "outputs": [],
   "source": [
    "# class ratio of training dataset\n",
    "sum(train_labels)/(len(train_labels)-sum(train_labels)) # Class 1:Class 0 = 2:1"
   ]
  },
  {
   "cell_type": "code",
   "execution_count": null,
   "metadata": {
    "colab": {
     "base_uri": "https://localhost:8080/"
    },
    "executionInfo": {
     "elapsed": 7,
     "status": "ok",
     "timestamp": 1730620906973,
     "user": {
      "displayName": "An Nguyen",
      "userId": "10376814865507008633"
     },
     "user_tz": -480
    },
    "id": "bbJtvhThj9ID",
    "outputId": "179cac3d-bdea-44bc-e50e-af8e96192a9c"
   },
   "outputs": [],
   "source": [
    "# class ratio of test dataset\n",
    "sum(test_labels)/(len(test_labels)-sum(test_labels)) # Class 1:Class 0 = 3:1"
   ]
  },
  {
   "cell_type": "markdown",
   "metadata": {
    "id": "ZtH6dHQ_iFcq"
   },
   "source": [
    "# Examining Distribution of Protein Sequence Lengths"
   ]
  },
  {
   "cell_type": "code",
   "execution_count": null,
   "metadata": {
    "executionInfo": {
     "elapsed": 4,
     "status": "ok",
     "timestamp": 1730620906973,
     "user": {
      "displayName": "An Nguyen",
      "userId": "10376814865507008633"
     },
     "user_tz": -480
    },
    "id": "z7A1kBmJlIAY"
   },
   "outputs": [],
   "source": [
    "train_length = [len(seq) for seq in train_sequences]\n",
    "test_length = [len(seq) for seq in test_sequences]"
   ]
  },
  {
   "cell_type": "code",
   "execution_count": null,
   "metadata": {
    "colab": {
     "base_uri": "https://localhost:8080/",
     "height": 607
    },
    "executionInfo": {
     "elapsed": 1103,
     "status": "ok",
     "timestamp": 1730620908073,
     "user": {
      "displayName": "An Nguyen",
      "userId": "10376814865507008633"
     },
     "user_tz": -480
    },
    "id": "j310dwfwlnBY",
    "outputId": "48e33d8b-d755-4c38-e0d8-69bd205b98ae"
   },
   "outputs": [],
   "source": [
    "# Plot histograms side by side\n",
    "plt.figure(figsize=(12, 6))\n",
    "\n",
    "# Plot for train.fasta\n",
    "plt.subplot(1, 2, 1)  # 1 row, 2 columns, first subplot\n",
    "plt.hist(train_length, bins=30, color='skyblue', edgecolor='black')\n",
    "plt.title('Sequence Length Distribution - Train')\n",
    "plt.xlabel('Sequence Length')\n",
    "plt.ylabel('Frequency')\n",
    "\n",
    "# Plot for test.fasta\n",
    "plt.subplot(1, 2, 2)  # 1 row, 2 columns, second subplot\n",
    "plt.hist(test_length, bins=30, color='salmon', edgecolor='black')\n",
    "plt.title('Sequence Length Distribution - Test')\n",
    "plt.xlabel('Sequence Length')\n",
    "plt.ylabel('Frequency')\n",
    "\n",
    "# Display the plot\n",
    "plt.tight_layout()\n",
    "plt.show()"
   ]
  },
  {
   "cell_type": "markdown",
   "metadata": {
    "id": "F_ytxQ9Hm8Bq"
   },
   "source": [
    "Since we are using some embedding and tokenization techniques in our work, padding and truncation are also applied. We aim to take 95% of the dataset. Thus, the desired maximum length is 1200."
   ]
  },
  {
   "cell_type": "code",
   "execution_count": null,
   "metadata": {
    "executionInfo": {
     "elapsed": 5,
     "status": "ok",
     "timestamp": 1730620908073,
     "user": {
      "displayName": "An Nguyen",
      "userId": "10376814865507008633"
     },
     "user_tz": -480
    },
    "id": "c7HMVEbWmTu3"
   },
   "outputs": [],
   "source": [
    "def cumulative_percentage(lengths):\n",
    "    \"\"\"Calculate the cumulative percentage distribution of sequence lengths.\"\"\"\n",
    "    sorted_lengths = np.sort(lengths)\n",
    "    cumulative_percent = np.cumsum(np.ones_like(sorted_lengths)) / len(sorted_lengths) * 100\n",
    "    return sorted_lengths, cumulative_percent\n",
    "\n",
    "# Calculate cumulative distributions\n",
    "train_sorted_lengths, train_cumulative_percent = cumulative_percentage(train_length)\n",
    "test_sorted_lengths, test_cumulative_percent = cumulative_percentage(test_length)\n",
    "\n",
    "# Find the cumulative percentage at max_length\n",
    "max_length = 1200\n",
    "train_percent = np.interp(max_length, train_sorted_lengths, train_cumulative_percent)\n",
    "test_percent = np.interp(max_length, test_sorted_lengths, test_cumulative_percent)"
   ]
  },
  {
   "cell_type": "code",
   "execution_count": null,
   "metadata": {
    "colab": {
     "base_uri": "https://localhost:8080/",
     "height": 607
    },
    "executionInfo": {
     "elapsed": 1103,
     "status": "ok",
     "timestamp": 1730620909172,
     "user": {
      "displayName": "An Nguyen",
      "userId": "10376814865507008633"
     },
     "user_tz": -480
    },
    "id": "052by4CpnHlZ",
    "outputId": "fe742edc-2377-4f29-a82b-20201813749d"
   },
   "outputs": [],
   "source": [
    "# Plot cumulative frequency distributions side by side\n",
    "plt.figure(figsize=(12, 6))\n",
    "\n",
    "# Train cumulative distribution plot\n",
    "plt.subplot(1, 2, 1)\n",
    "plt.plot(train_sorted_lengths, train_cumulative_percent, color='skyblue', label='Train')\n",
    "plt.axvline(x=max_length, color='grey', linestyle='--')  # Vertical line at 1200\n",
    "plt.scatter(max_length, train_percent, color='blue')  # Point at length 1200\n",
    "plt.text(max_length, train_percent, f'{train_percent:.2f}%', ha='right', color='blue')\n",
    "plt.title('Cumulative Frequency Distribution - Train')\n",
    "plt.xlabel('Sequence Length')\n",
    "plt.ylabel('Cumulative Frequency (%)')\n",
    "plt.ylim(0, 100)\n",
    "\n",
    "# Test cumulative distribution plot\n",
    "plt.subplot(1, 2, 2)\n",
    "plt.plot(test_sorted_lengths, test_cumulative_percent, color='salmon', label='Test')\n",
    "plt.axvline(x=max_length, color='grey', linestyle='--')  # Vertical line\n",
    "plt.scatter(max_length, test_percent, color='red')  # Point at max_length\n",
    "plt.text(max_length, test_percent, f'{test_percent:.2f}%', ha='right', color='red')\n",
    "plt.title('Cumulative Frequency Distribution - Test')\n",
    "plt.xlabel('Sequence Length')\n",
    "plt.ylabel('Cumulative Frequency (%)')\n",
    "plt.ylim(0, 100)\n",
    "\n",
    "# Adjust layout and show plot\n",
    "plt.tight_layout()\n",
    "plt.show()"
   ]
  },
  {
   "cell_type": "markdown",
   "metadata": {
    "id": "WIfLZz6iiM23"
   },
   "source": [
    "# Examining Global Amino Acid Distribution between Train vs Test dataset"
   ]
  },
  {
   "cell_type": "code",
   "execution_count": null,
   "metadata": {
    "executionInfo": {
     "elapsed": 5,
     "status": "ok",
     "timestamp": 1730620909172,
     "user": {
      "displayName": "An Nguyen",
      "userId": "10376814865507008633"
     },
     "user_tz": -480
    },
    "id": "xuQrJbS_n7a6"
   },
   "outputs": [],
   "source": [
    "import matplotlib.pyplot as plt\n",
    "from collections import Counter\n",
    "import numpy as np\n",
    "\n",
    "def calculate_character_distribution(sequences):\n",
    "    \"\"\"Calculate the global distribution of characters in a list of sequences.\"\"\"\n",
    "    char_count = Counter()\n",
    "    total_chars = 0\n",
    "\n",
    "    for sequence in sequences:\n",
    "        char_count.update(sequence)\n",
    "        total_chars += len(sequence)\n",
    "\n",
    "    # Convert counts to percentages\n",
    "    char_distribution = {char: (count / total_chars) * 100 for char, count in char_count.items()}\n",
    "    return char_distribution\n",
    "\n"
   ]
  },
  {
   "cell_type": "code",
   "execution_count": null,
   "metadata": {
    "executionInfo": {
     "elapsed": 5227,
     "status": "ok",
     "timestamp": 1730620914396,
     "user": {
      "displayName": "An Nguyen",
      "userId": "10376814865507008633"
     },
     "user_tz": -480
    },
    "id": "0vzvhrBfn-oe"
   },
   "outputs": [],
   "source": [
    "# Calculate distributions for train and test sets\n",
    "train_distribution = calculate_character_distribution(train_sequences)\n",
    "test_distribution = calculate_character_distribution(test_sequences)\n",
    "\n",
    "# Get all unique characters from both distributions\n",
    "all_chars = sorted(set(train_distribution.keys()).union(set(test_distribution.keys())))\n",
    "\n",
    "# Prepare data for plotting\n",
    "train_values = [train_distribution.get(char, 0) for char in all_chars]\n",
    "test_values = [test_distribution.get(char, 0) for char in all_chars]\n"
   ]
  },
  {
   "cell_type": "code",
   "execution_count": null,
   "metadata": {
    "colab": {
     "base_uri": "https://localhost:8080/",
     "height": 607
    },
    "executionInfo": {
     "elapsed": 381,
     "status": "ok",
     "timestamp": 1730620914770,
     "user": {
      "displayName": "An Nguyen",
      "userId": "10376814865507008633"
     },
     "user_tz": -480
    },
    "id": "wgLxTDL2oAZA",
    "outputId": "8f7b0af8-56c4-4481-a2bc-7cf6d5256368"
   },
   "outputs": [],
   "source": [
    "# Plot comparative bar graph\n",
    "x = np.arange(len(all_chars))\n",
    "width = 0.35  # Width of the bars\n",
    "\n",
    "plt.figure(figsize=(12, 6))\n",
    "plt.bar(x - width/2, train_values, width, label='Train', color='skyblue')\n",
    "plt.bar(x + width/2, test_values, width, label='Test', color='salmon')\n",
    "\n",
    "# Labeling\n",
    "plt.xlabel(\"Characters (Amino Acids)\")\n",
    "plt.ylabel(\"Frequency (%)\")\n",
    "plt.title(\"Amino Acid Distribution in Train and Test Sets\")\n",
    "plt.xticks(x, all_chars)\n",
    "plt.legend()\n",
    "\n",
    "# Show plot\n",
    "plt.tight_layout()\n",
    "plt.show()"
   ]
  },
  {
   "cell_type": "markdown",
   "metadata": {
    "id": "3D69nQPfiqz2"
   },
   "source": [
    "# Examining Uncommon Amino Acid in Train & Test dataset"
   ]
  },
  {
   "cell_type": "markdown",
   "metadata": {
    "id": "DBlHZXhfnVrp"
   },
   "source": [
    "There are only 20 common amino acids found in protein sequences. Thus, we analyse what are uncommon amino acids found in our training and test dataset."
   ]
  },
  {
   "cell_type": "code",
   "execution_count": null,
   "metadata": {
    "executionInfo": {
     "elapsed": 7,
     "status": "ok",
     "timestamp": 1730620914771,
     "user": {
      "displayName": "An Nguyen",
      "userId": "10376814865507008633"
     },
     "user_tz": -480
    },
    "id": "npqPcj7vnU_E"
   },
   "outputs": [],
   "source": [
    "# Define the set of common amino acids\n",
    "common_amino_acids = set(\"ARNDCEQGHILKMFPSTWYV\")"
   ]
  },
  {
   "cell_type": "code",
   "execution_count": null,
   "metadata": {
    "executionInfo": {
     "elapsed": 6,
     "status": "ok",
     "timestamp": 1730620914771,
     "user": {
      "displayName": "An Nguyen",
      "userId": "10376814865507008633"
     },
     "user_tz": -480
    },
    "id": "DqHYnVJRpFyM"
   },
   "outputs": [],
   "source": [
    "def extract_uncommon_amino_acids(fasta_file, sequence_type):\n",
    "    \"\"\"Extract sequences with uncommon amino acids from a FASTA file.\"\"\"\n",
    "    data = []\n",
    "\n",
    "    for record in SeqIO.parse(fasta_file, \"fasta\"):\n",
    "        seq = str(record.seq)\n",
    "        sequence_id = record.id\n",
    "        uncommon_amino_acids = set(seq) - common_amino_acids\n",
    "\n",
    "        # If there are uncommon amino acids, add a row to the data list\n",
    "        if uncommon_amino_acids:\n",
    "            data.append({\n",
    "                \"sequence_id\": sequence_id,\n",
    "                \"type\": sequence_type,\n",
    "                \"uncommon_amino_acids\": ', '.join(uncommon_amino_acids)  # Convert set to comma-separated string\n",
    "            })\n",
    "\n",
    "    return data"
   ]
  },
  {
   "cell_type": "code",
   "execution_count": null,
   "metadata": {
    "colab": {
     "base_uri": "https://localhost:8080/"
    },
    "executionInfo": {
     "elapsed": 2416,
     "status": "ok",
     "timestamp": 1730620917181,
     "user": {
      "displayName": "An Nguyen",
      "userId": "10376814865507008633"
     },
     "user_tz": -480
    },
    "id": "QDnnAquqpHON",
    "outputId": "5d1f6779-9ab3-48c7-9ea2-ed8521d9663c"
   },
   "outputs": [],
   "source": [
    "# Extract uncommon amino acids for both train and test sets\n",
    "train_data = extract_uncommon_amino_acids(train_path, \"train\")\n",
    "test_data = extract_uncommon_amino_acids(test_path, \"test\")\n",
    "\n",
    "# Combine data from both train and test into a single DataFrame\n",
    "combined_data = train_data + test_data\n",
    "df = pd.DataFrame(combined_data)\n",
    "\n",
    "# Print the table\n",
    "print(df.to_string(index=False))"
   ]
  },
  {
   "cell_type": "markdown",
   "metadata": {
    "id": "KEvJTyk0p9h1"
   },
   "source": [
    "Among 24 train sequences that contain uncommon amino acid, only 1 of them contain amino acid 'U' (Selenocysteine), the rest contain unknown amino acid ('X').\n",
    "There are only 3 test sequences that contain uncommon amino acid ('X')."
   ]
  }
 ],
 "metadata": {
  "colab": {
   "authorship_tag": "ABX9TyM3bD2KW6qZ1RJdcAZFel/J",
   "provenance": []
  },
  "kernelspec": {
   "display_name": "Python 3",
   "name": "python3"
  },
  "language_info": {
   "name": "python"
  }
 },
 "nbformat": 4,
 "nbformat_minor": 0
}
